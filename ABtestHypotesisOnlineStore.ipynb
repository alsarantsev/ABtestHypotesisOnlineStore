{
 "cells": [
  {
   "cell_type": "code",
   "execution_count": 1,
   "metadata": {},
   "outputs": [],
   "source": [
    "import pandas as pd\n",
    "import numpy as np\n",
    "import matplotlib.pyplot as plt\n",
    "import scipy.stats as stats"
   ]
  },
  {
   "cell_type": "markdown",
   "metadata": {},
   "source": [
    "# Project decription   \n",
    "\n",
    "So we are an analysts at a big online store. Together with the marketing department, we've compiled a list of hypotheses that may help boost revenue.\n",
    "We going to do our work by following 3 steps:   \n",
    "\n",
    "**1. We'll prioritize these hypotheses at first**    \n",
    "**2. After that we'll launch an A/B test, by plotting graphs of cumulative data, definding borders of \"normal data\" and definding statistical significance of the difference in conversion and average order size between the groups in raw and filtered data.**   \n",
    "**3. And the last one - we'll analyze the results.**   "
   ]
  },
  {
   "cell_type": "markdown",
   "metadata": {},
   "source": [
    "## Part 1: Prioritizing Hypotheses"
   ]
  },
  {
   "cell_type": "markdown",
   "metadata": {},
   "source": [
    "Ok, let's proceed to our data and at first let's decide how we should prioritize hypotheses"
   ]
  },
  {
   "cell_type": "code",
   "execution_count": 2,
   "metadata": {},
   "outputs": [],
   "source": [
    "try:\n",
    "    data = pd.read_csv('/datasets/hypotheses_us.csv', sep = ';')\n",
    "except:\n",
    "    print('Try another database')"
   ]
  },
  {
   "cell_type": "code",
   "execution_count": 3,
   "metadata": {},
   "outputs": [
    {
     "data": {
      "text/html": [
       "<div>\n",
       "<style scoped>\n",
       "    .dataframe tbody tr th:only-of-type {\n",
       "        vertical-align: middle;\n",
       "    }\n",
       "\n",
       "    .dataframe tbody tr th {\n",
       "        vertical-align: top;\n",
       "    }\n",
       "\n",
       "    .dataframe thead th {\n",
       "        text-align: right;\n",
       "    }\n",
       "</style>\n",
       "<table border=\"1\" class=\"dataframe\">\n",
       "  <thead>\n",
       "    <tr style=\"text-align: right;\">\n",
       "      <th></th>\n",
       "      <th>Hypothesis</th>\n",
       "      <th>Reach</th>\n",
       "      <th>Impact</th>\n",
       "      <th>Confidence</th>\n",
       "      <th>Effort</th>\n",
       "    </tr>\n",
       "  </thead>\n",
       "  <tbody>\n",
       "    <tr>\n",
       "      <th>0</th>\n",
       "      <td>Add two new channels for attracting traffic. T...</td>\n",
       "      <td>3</td>\n",
       "      <td>10</td>\n",
       "      <td>8</td>\n",
       "      <td>6</td>\n",
       "    </tr>\n",
       "    <tr>\n",
       "      <th>1</th>\n",
       "      <td>Launch your own delivery service. This will sh...</td>\n",
       "      <td>2</td>\n",
       "      <td>5</td>\n",
       "      <td>4</td>\n",
       "      <td>10</td>\n",
       "    </tr>\n",
       "    <tr>\n",
       "      <th>2</th>\n",
       "      <td>Add product recommendation blocks to the store...</td>\n",
       "      <td>8</td>\n",
       "      <td>3</td>\n",
       "      <td>7</td>\n",
       "      <td>3</td>\n",
       "    </tr>\n",
       "    <tr>\n",
       "      <th>3</th>\n",
       "      <td>Change the category structure. This will incre...</td>\n",
       "      <td>8</td>\n",
       "      <td>3</td>\n",
       "      <td>3</td>\n",
       "      <td>8</td>\n",
       "    </tr>\n",
       "    <tr>\n",
       "      <th>4</th>\n",
       "      <td>Change the background color on the main page. ...</td>\n",
       "      <td>3</td>\n",
       "      <td>1</td>\n",
       "      <td>1</td>\n",
       "      <td>1</td>\n",
       "    </tr>\n",
       "    <tr>\n",
       "      <th>5</th>\n",
       "      <td>Add a customer review page. This will increase...</td>\n",
       "      <td>3</td>\n",
       "      <td>2</td>\n",
       "      <td>2</td>\n",
       "      <td>3</td>\n",
       "    </tr>\n",
       "    <tr>\n",
       "      <th>6</th>\n",
       "      <td>Show banners with current offers and sales on ...</td>\n",
       "      <td>5</td>\n",
       "      <td>3</td>\n",
       "      <td>8</td>\n",
       "      <td>3</td>\n",
       "    </tr>\n",
       "    <tr>\n",
       "      <th>7</th>\n",
       "      <td>Add a subscription form to all the main pages....</td>\n",
       "      <td>10</td>\n",
       "      <td>7</td>\n",
       "      <td>8</td>\n",
       "      <td>5</td>\n",
       "    </tr>\n",
       "    <tr>\n",
       "      <th>8</th>\n",
       "      <td>Launch a promotion that gives users discounts ...</td>\n",
       "      <td>1</td>\n",
       "      <td>9</td>\n",
       "      <td>9</td>\n",
       "      <td>5</td>\n",
       "    </tr>\n",
       "  </tbody>\n",
       "</table>\n",
       "</div>"
      ],
      "text/plain": [
       "                                          Hypothesis  Reach  Impact  \\\n",
       "0  Add two new channels for attracting traffic. T...      3      10   \n",
       "1  Launch your own delivery service. This will sh...      2       5   \n",
       "2  Add product recommendation blocks to the store...      8       3   \n",
       "3  Change the category structure. This will incre...      8       3   \n",
       "4  Change the background color on the main page. ...      3       1   \n",
       "5  Add a customer review page. This will increase...      3       2   \n",
       "6  Show banners with current offers and sales on ...      5       3   \n",
       "7  Add a subscription form to all the main pages....     10       7   \n",
       "8  Launch a promotion that gives users discounts ...      1       9   \n",
       "\n",
       "   Confidence  Effort  \n",
       "0           8       6  \n",
       "1           4      10  \n",
       "2           7       3  \n",
       "3           3       8  \n",
       "4           1       1  \n",
       "5           2       3  \n",
       "6           8       3  \n",
       "7           8       5  \n",
       "8           9       5  "
      ]
     },
     "execution_count": 3,
     "metadata": {},
     "output_type": "execute_result"
    }
   ],
   "source": [
    "data"
   ]
  },
  {
   "cell_type": "code",
   "execution_count": 4,
   "metadata": {},
   "outputs": [
    {
     "data": {
      "text/html": [
       "<div>\n",
       "<style scoped>\n",
       "    .dataframe tbody tr th:only-of-type {\n",
       "        vertical-align: middle;\n",
       "    }\n",
       "\n",
       "    .dataframe tbody tr th {\n",
       "        vertical-align: top;\n",
       "    }\n",
       "\n",
       "    .dataframe thead th {\n",
       "        text-align: right;\n",
       "    }\n",
       "</style>\n",
       "<table border=\"1\" class=\"dataframe\">\n",
       "  <thead>\n",
       "    <tr style=\"text-align: right;\">\n",
       "      <th></th>\n",
       "      <th>Hypothesis</th>\n",
       "      <th>ICE</th>\n",
       "    </tr>\n",
       "  </thead>\n",
       "  <tbody>\n",
       "    <tr>\n",
       "      <th>8</th>\n",
       "      <td>Launch a promotion that gives users discounts ...</td>\n",
       "      <td>16.200000</td>\n",
       "    </tr>\n",
       "    <tr>\n",
       "      <th>0</th>\n",
       "      <td>Add two new channels for attracting traffic. T...</td>\n",
       "      <td>13.333333</td>\n",
       "    </tr>\n",
       "    <tr>\n",
       "      <th>7</th>\n",
       "      <td>Add a subscription form to all the main pages....</td>\n",
       "      <td>11.200000</td>\n",
       "    </tr>\n",
       "    <tr>\n",
       "      <th>6</th>\n",
       "      <td>Show banners with current offers and sales on ...</td>\n",
       "      <td>8.000000</td>\n",
       "    </tr>\n",
       "    <tr>\n",
       "      <th>2</th>\n",
       "      <td>Add product recommendation blocks to the store...</td>\n",
       "      <td>7.000000</td>\n",
       "    </tr>\n",
       "    <tr>\n",
       "      <th>1</th>\n",
       "      <td>Launch your own delivery service. This will sh...</td>\n",
       "      <td>2.000000</td>\n",
       "    </tr>\n",
       "    <tr>\n",
       "      <th>5</th>\n",
       "      <td>Add a customer review page. This will increase...</td>\n",
       "      <td>1.333333</td>\n",
       "    </tr>\n",
       "    <tr>\n",
       "      <th>3</th>\n",
       "      <td>Change the category structure. This will incre...</td>\n",
       "      <td>1.125000</td>\n",
       "    </tr>\n",
       "    <tr>\n",
       "      <th>4</th>\n",
       "      <td>Change the background color on the main page. ...</td>\n",
       "      <td>1.000000</td>\n",
       "    </tr>\n",
       "  </tbody>\n",
       "</table>\n",
       "</div>"
      ],
      "text/plain": [
       "                                          Hypothesis        ICE\n",
       "8  Launch a promotion that gives users discounts ...  16.200000\n",
       "0  Add two new channels for attracting traffic. T...  13.333333\n",
       "7  Add a subscription form to all the main pages....  11.200000\n",
       "6  Show banners with current offers and sales on ...   8.000000\n",
       "2  Add product recommendation blocks to the store...   7.000000\n",
       "1  Launch your own delivery service. This will sh...   2.000000\n",
       "5  Add a customer review page. This will increase...   1.333333\n",
       "3  Change the category structure. This will incre...   1.125000\n",
       "4  Change the background color on the main page. ...   1.000000"
      ]
     },
     "execution_count": 4,
     "metadata": {},
     "output_type": "execute_result"
    }
   ],
   "source": [
    "data['ICE'] = (data['Impact'] * data['Confidence']) / data['Effort']\n",
    "data.sort_values(by = 'ICE', ascending = False)[['Hypothesis', 'ICE']]"
   ]
  },
  {
   "cell_type": "code",
   "execution_count": 5,
   "metadata": {},
   "outputs": [
    {
     "data": {
      "text/html": [
       "<div>\n",
       "<style scoped>\n",
       "    .dataframe tbody tr th:only-of-type {\n",
       "        vertical-align: middle;\n",
       "    }\n",
       "\n",
       "    .dataframe tbody tr th {\n",
       "        vertical-align: top;\n",
       "    }\n",
       "\n",
       "    .dataframe thead th {\n",
       "        text-align: right;\n",
       "    }\n",
       "</style>\n",
       "<table border=\"1\" class=\"dataframe\">\n",
       "  <thead>\n",
       "    <tr style=\"text-align: right;\">\n",
       "      <th></th>\n",
       "      <th>Hypothesis</th>\n",
       "      <th>RICE</th>\n",
       "    </tr>\n",
       "  </thead>\n",
       "  <tbody>\n",
       "    <tr>\n",
       "      <th>7</th>\n",
       "      <td>Add a subscription form to all the main pages....</td>\n",
       "      <td>112.0</td>\n",
       "    </tr>\n",
       "    <tr>\n",
       "      <th>2</th>\n",
       "      <td>Add product recommendation blocks to the store...</td>\n",
       "      <td>56.0</td>\n",
       "    </tr>\n",
       "    <tr>\n",
       "      <th>0</th>\n",
       "      <td>Add two new channels for attracting traffic. T...</td>\n",
       "      <td>40.0</td>\n",
       "    </tr>\n",
       "    <tr>\n",
       "      <th>6</th>\n",
       "      <td>Show banners with current offers and sales on ...</td>\n",
       "      <td>40.0</td>\n",
       "    </tr>\n",
       "    <tr>\n",
       "      <th>8</th>\n",
       "      <td>Launch a promotion that gives users discounts ...</td>\n",
       "      <td>16.2</td>\n",
       "    </tr>\n",
       "    <tr>\n",
       "      <th>3</th>\n",
       "      <td>Change the category structure. This will incre...</td>\n",
       "      <td>9.0</td>\n",
       "    </tr>\n",
       "    <tr>\n",
       "      <th>1</th>\n",
       "      <td>Launch your own delivery service. This will sh...</td>\n",
       "      <td>4.0</td>\n",
       "    </tr>\n",
       "    <tr>\n",
       "      <th>5</th>\n",
       "      <td>Add a customer review page. This will increase...</td>\n",
       "      <td>4.0</td>\n",
       "    </tr>\n",
       "    <tr>\n",
       "      <th>4</th>\n",
       "      <td>Change the background color on the main page. ...</td>\n",
       "      <td>3.0</td>\n",
       "    </tr>\n",
       "  </tbody>\n",
       "</table>\n",
       "</div>"
      ],
      "text/plain": [
       "                                          Hypothesis   RICE\n",
       "7  Add a subscription form to all the main pages....  112.0\n",
       "2  Add product recommendation blocks to the store...   56.0\n",
       "0  Add two new channels for attracting traffic. T...   40.0\n",
       "6  Show banners with current offers and sales on ...   40.0\n",
       "8  Launch a promotion that gives users discounts ...   16.2\n",
       "3  Change the category structure. This will incre...    9.0\n",
       "1  Launch your own delivery service. This will sh...    4.0\n",
       "5  Add a customer review page. This will increase...    4.0\n",
       "4  Change the background color on the main page. ...    3.0"
      ]
     },
     "execution_count": 5,
     "metadata": {},
     "output_type": "execute_result"
    }
   ],
   "source": [
    "data['RICE'] = (data['Reach'] * data['Impact'] * data['Confidence']) / data['Effort']\n",
    "data.sort_values(by = 'RICE', ascending = False)[['Hypothesis','RICE']]"
   ]
  },
  {
   "cell_type": "code",
   "execution_count": 6,
   "metadata": {},
   "outputs": [
    {
     "data": {
      "text/plain": [
       "'Add a subscription form to all the main pages. This will help you compile a mailing list'"
      ]
     },
     "execution_count": 6,
     "metadata": {},
     "output_type": "execute_result"
    }
   ],
   "source": [
    "data.loc[7, 'Hypothesis']"
   ]
  },
  {
   "cell_type": "markdown",
   "metadata": {},
   "source": [
    "**Conclusion:**   \n",
    "While we are using ICE Score there are 3 hypotheses that we would pay attention to: with indices 8, 0 and 7. \n",
    "But after we've added the **\"REACH\"** parameter, the hypothesis with 7th index received the most point, almost x2 gap with second one. That means having significant level affected users make huge impact on order of hypothesis"
   ]
  },
  {
   "cell_type": "markdown",
   "metadata": {},
   "source": [
    "## Part 2: A/B Test Analysis"
   ]
  },
  {
   "cell_type": "markdown",
   "metadata": {},
   "source": [
    "Ok, let's retrive the data"
   ]
  },
  {
   "cell_type": "code",
   "execution_count": 7,
   "metadata": {},
   "outputs": [],
   "source": [
    "try:\n",
    "    orders = pd.read_csv('/datasets/orders_us.csv')\n",
    "except:\n",
    "    print('Try another database')"
   ]
  },
  {
   "cell_type": "code",
   "execution_count": 8,
   "metadata": {},
   "outputs": [
    {
     "data": {
      "text/html": [
       "<div>\n",
       "<style scoped>\n",
       "    .dataframe tbody tr th:only-of-type {\n",
       "        vertical-align: middle;\n",
       "    }\n",
       "\n",
       "    .dataframe tbody tr th {\n",
       "        vertical-align: top;\n",
       "    }\n",
       "\n",
       "    .dataframe thead th {\n",
       "        text-align: right;\n",
       "    }\n",
       "</style>\n",
       "<table border=\"1\" class=\"dataframe\">\n",
       "  <thead>\n",
       "    <tr style=\"text-align: right;\">\n",
       "      <th></th>\n",
       "      <th>transactionId</th>\n",
       "      <th>visitorId</th>\n",
       "      <th>date</th>\n",
       "      <th>revenue</th>\n",
       "      <th>group</th>\n",
       "    </tr>\n",
       "  </thead>\n",
       "  <tbody>\n",
       "    <tr>\n",
       "      <th>0</th>\n",
       "      <td>3667963787</td>\n",
       "      <td>3312258926</td>\n",
       "      <td>2019-08-15</td>\n",
       "      <td>30.4</td>\n",
       "      <td>B</td>\n",
       "    </tr>\n",
       "    <tr>\n",
       "      <th>1</th>\n",
       "      <td>2804400009</td>\n",
       "      <td>3642806036</td>\n",
       "      <td>2019-08-15</td>\n",
       "      <td>15.2</td>\n",
       "      <td>B</td>\n",
       "    </tr>\n",
       "    <tr>\n",
       "      <th>2</th>\n",
       "      <td>2961555356</td>\n",
       "      <td>4069496402</td>\n",
       "      <td>2019-08-15</td>\n",
       "      <td>10.2</td>\n",
       "      <td>A</td>\n",
       "    </tr>\n",
       "    <tr>\n",
       "      <th>3</th>\n",
       "      <td>3797467345</td>\n",
       "      <td>1196621759</td>\n",
       "      <td>2019-08-15</td>\n",
       "      <td>155.1</td>\n",
       "      <td>B</td>\n",
       "    </tr>\n",
       "    <tr>\n",
       "      <th>4</th>\n",
       "      <td>2282983706</td>\n",
       "      <td>2322279887</td>\n",
       "      <td>2019-08-15</td>\n",
       "      <td>40.5</td>\n",
       "      <td>B</td>\n",
       "    </tr>\n",
       "  </tbody>\n",
       "</table>\n",
       "</div>"
      ],
      "text/plain": [
       "   transactionId   visitorId        date  revenue group\n",
       "0     3667963787  3312258926  2019-08-15     30.4     B\n",
       "1     2804400009  3642806036  2019-08-15     15.2     B\n",
       "2     2961555356  4069496402  2019-08-15     10.2     A\n",
       "3     3797467345  1196621759  2019-08-15    155.1     B\n",
       "4     2282983706  2322279887  2019-08-15     40.5     B"
      ]
     },
     "execution_count": 8,
     "metadata": {},
     "output_type": "execute_result"
    }
   ],
   "source": [
    "orders.head()"
   ]
  },
  {
   "cell_type": "code",
   "execution_count": 9,
   "metadata": {},
   "outputs": [
    {
     "name": "stdout",
     "output_type": "stream",
     "text": [
      "<class 'pandas.core.frame.DataFrame'>\n",
      "RangeIndex: 1197 entries, 0 to 1196\n",
      "Data columns (total 5 columns):\n",
      " #   Column         Non-Null Count  Dtype  \n",
      "---  ------         --------------  -----  \n",
      " 0   transactionId  1197 non-null   int64  \n",
      " 1   visitorId      1197 non-null   int64  \n",
      " 2   date           1197 non-null   object \n",
      " 3   revenue        1197 non-null   float64\n",
      " 4   group          1197 non-null   object \n",
      "dtypes: float64(1), int64(2), object(2)\n",
      "memory usage: 46.9+ KB\n"
     ]
    }
   ],
   "source": [
    "orders.info()"
   ]
  },
  {
   "cell_type": "code",
   "execution_count": 10,
   "metadata": {},
   "outputs": [],
   "source": [
    "try:\n",
    "    visits = pd.read_csv('/datasets/visits_us.csv')\n",
    "except:\n",
    "    print('Try another database')"
   ]
  },
  {
   "cell_type": "code",
   "execution_count": 11,
   "metadata": {},
   "outputs": [
    {
     "data": {
      "text/html": [
       "<div>\n",
       "<style scoped>\n",
       "    .dataframe tbody tr th:only-of-type {\n",
       "        vertical-align: middle;\n",
       "    }\n",
       "\n",
       "    .dataframe tbody tr th {\n",
       "        vertical-align: top;\n",
       "    }\n",
       "\n",
       "    .dataframe thead th {\n",
       "        text-align: right;\n",
       "    }\n",
       "</style>\n",
       "<table border=\"1\" class=\"dataframe\">\n",
       "  <thead>\n",
       "    <tr style=\"text-align: right;\">\n",
       "      <th></th>\n",
       "      <th>date</th>\n",
       "      <th>group</th>\n",
       "      <th>visits</th>\n",
       "    </tr>\n",
       "  </thead>\n",
       "  <tbody>\n",
       "    <tr>\n",
       "      <th>0</th>\n",
       "      <td>2019-08-01</td>\n",
       "      <td>A</td>\n",
       "      <td>719</td>\n",
       "    </tr>\n",
       "    <tr>\n",
       "      <th>1</th>\n",
       "      <td>2019-08-02</td>\n",
       "      <td>A</td>\n",
       "      <td>619</td>\n",
       "    </tr>\n",
       "    <tr>\n",
       "      <th>2</th>\n",
       "      <td>2019-08-03</td>\n",
       "      <td>A</td>\n",
       "      <td>507</td>\n",
       "    </tr>\n",
       "    <tr>\n",
       "      <th>3</th>\n",
       "      <td>2019-08-04</td>\n",
       "      <td>A</td>\n",
       "      <td>717</td>\n",
       "    </tr>\n",
       "    <tr>\n",
       "      <th>4</th>\n",
       "      <td>2019-08-05</td>\n",
       "      <td>A</td>\n",
       "      <td>756</td>\n",
       "    </tr>\n",
       "  </tbody>\n",
       "</table>\n",
       "</div>"
      ],
      "text/plain": [
       "         date group  visits\n",
       "0  2019-08-01     A     719\n",
       "1  2019-08-02     A     619\n",
       "2  2019-08-03     A     507\n",
       "3  2019-08-04     A     717\n",
       "4  2019-08-05     A     756"
      ]
     },
     "execution_count": 11,
     "metadata": {},
     "output_type": "execute_result"
    }
   ],
   "source": [
    "visits.head()"
   ]
  },
  {
   "cell_type": "code",
   "execution_count": 12,
   "metadata": {},
   "outputs": [
    {
     "name": "stdout",
     "output_type": "stream",
     "text": [
      "<class 'pandas.core.frame.DataFrame'>\n",
      "RangeIndex: 62 entries, 0 to 61\n",
      "Data columns (total 3 columns):\n",
      " #   Column  Non-Null Count  Dtype \n",
      "---  ------  --------------  ----- \n",
      " 0   date    62 non-null     object\n",
      " 1   group   62 non-null     object\n",
      " 2   visits  62 non-null     int64 \n",
      "dtypes: int64(1), object(2)\n",
      "memory usage: 1.6+ KB\n"
     ]
    }
   ],
   "source": [
    "visits.info()"
   ]
  },
  {
   "cell_type": "markdown",
   "metadata": {},
   "source": [
    "So, we see that we have two groups, \"A\" and \"B\", where \"A\" group - it's control group, and \"B\" - the test one. Let's change the type of \"date\" column"
   ]
  },
  {
   "cell_type": "code",
   "execution_count": 13,
   "metadata": {},
   "outputs": [
    {
     "name": "stdout",
     "output_type": "stream",
     "text": [
      "<class 'pandas.core.frame.DataFrame'>\n",
      "RangeIndex: 1197 entries, 0 to 1196\n",
      "Data columns (total 5 columns):\n",
      " #   Column         Non-Null Count  Dtype         \n",
      "---  ------         --------------  -----         \n",
      " 0   transactionId  1197 non-null   int64         \n",
      " 1   visitorId      1197 non-null   int64         \n",
      " 2   date           1197 non-null   datetime64[ns]\n",
      " 3   revenue        1197 non-null   float64       \n",
      " 4   group          1197 non-null   object        \n",
      "dtypes: datetime64[ns](1), float64(1), int64(2), object(1)\n",
      "memory usage: 46.9+ KB\n"
     ]
    }
   ],
   "source": [
    "orders['date'] = pd.to_datetime(orders['date'])\n",
    "orders.info() "
   ]
  },
  {
   "cell_type": "code",
   "execution_count": 14,
   "metadata": {},
   "outputs": [
    {
     "name": "stdout",
     "output_type": "stream",
     "text": [
      "<class 'pandas.core.frame.DataFrame'>\n",
      "RangeIndex: 62 entries, 0 to 61\n",
      "Data columns (total 3 columns):\n",
      " #   Column  Non-Null Count  Dtype         \n",
      "---  ------  --------------  -----         \n",
      " 0   date    62 non-null     datetime64[ns]\n",
      " 1   group   62 non-null     object        \n",
      " 2   visits  62 non-null     int64         \n",
      "dtypes: datetime64[ns](1), int64(1), object(1)\n",
      "memory usage: 1.6+ KB\n"
     ]
    }
   ],
   "source": [
    "visits['date'] = pd.to_datetime(visits['date'])\n",
    "visits.info()"
   ]
  },
  {
   "cell_type": "markdown",
   "metadata": {},
   "source": [
    "To compare two groups, we'll obtain cumulative data. We'll group both tables by date, count values and merge them after that"
   ]
  },
  {
   "cell_type": "code",
   "execution_count": 15,
   "metadata": {},
   "outputs": [
    {
     "data": {
      "text/html": [
       "<div>\n",
       "<style scoped>\n",
       "    .dataframe tbody tr th:only-of-type {\n",
       "        vertical-align: middle;\n",
       "    }\n",
       "\n",
       "    .dataframe tbody tr th {\n",
       "        vertical-align: top;\n",
       "    }\n",
       "\n",
       "    .dataframe thead th {\n",
       "        text-align: right;\n",
       "    }\n",
       "</style>\n",
       "<table border=\"1\" class=\"dataframe\">\n",
       "  <thead>\n",
       "    <tr style=\"text-align: right;\">\n",
       "      <th></th>\n",
       "      <th>date</th>\n",
       "      <th>group</th>\n",
       "    </tr>\n",
       "  </thead>\n",
       "  <tbody>\n",
       "    <tr>\n",
       "      <th>0</th>\n",
       "      <td>2019-08-15</td>\n",
       "      <td>B</td>\n",
       "    </tr>\n",
       "    <tr>\n",
       "      <th>2</th>\n",
       "      <td>2019-08-15</td>\n",
       "      <td>A</td>\n",
       "    </tr>\n",
       "    <tr>\n",
       "      <th>45</th>\n",
       "      <td>2019-08-16</td>\n",
       "      <td>A</td>\n",
       "    </tr>\n",
       "    <tr>\n",
       "      <th>47</th>\n",
       "      <td>2019-08-16</td>\n",
       "      <td>B</td>\n",
       "    </tr>\n",
       "    <tr>\n",
       "      <th>55</th>\n",
       "      <td>2019-08-01</td>\n",
       "      <td>A</td>\n",
       "    </tr>\n",
       "  </tbody>\n",
       "</table>\n",
       "</div>"
      ],
      "text/plain": [
       "         date group\n",
       "0  2019-08-15     B\n",
       "2  2019-08-15     A\n",
       "45 2019-08-16     A\n",
       "47 2019-08-16     B\n",
       "55 2019-08-01     A"
      ]
     },
     "execution_count": 15,
     "metadata": {},
     "output_type": "execute_result"
    }
   ],
   "source": [
    "datesGroups = orders[['date', 'group']].drop_duplicates()\n",
    "datesGroups.head()"
   ]
  },
  {
   "cell_type": "code",
   "execution_count": 16,
   "metadata": {},
   "outputs": [
    {
     "data": {
      "text/html": [
       "<div>\n",
       "<style scoped>\n",
       "    .dataframe tbody tr th:only-of-type {\n",
       "        vertical-align: middle;\n",
       "    }\n",
       "\n",
       "    .dataframe tbody tr th {\n",
       "        vertical-align: top;\n",
       "    }\n",
       "\n",
       "    .dataframe thead th {\n",
       "        text-align: right;\n",
       "    }\n",
       "</style>\n",
       "<table border=\"1\" class=\"dataframe\">\n",
       "  <thead>\n",
       "    <tr style=\"text-align: right;\">\n",
       "      <th></th>\n",
       "      <th>date</th>\n",
       "      <th>group</th>\n",
       "      <th>transactionId</th>\n",
       "      <th>visitorId</th>\n",
       "      <th>revenue</th>\n",
       "    </tr>\n",
       "  </thead>\n",
       "  <tbody>\n",
       "    <tr>\n",
       "      <th>55</th>\n",
       "      <td>2019-08-01</td>\n",
       "      <td>A</td>\n",
       "      <td>24</td>\n",
       "      <td>20</td>\n",
       "      <td>2356.8</td>\n",
       "    </tr>\n",
       "    <tr>\n",
       "      <th>66</th>\n",
       "      <td>2019-08-01</td>\n",
       "      <td>B</td>\n",
       "      <td>21</td>\n",
       "      <td>20</td>\n",
       "      <td>1620.0</td>\n",
       "    </tr>\n",
       "    <tr>\n",
       "      <th>175</th>\n",
       "      <td>2019-08-02</td>\n",
       "      <td>A</td>\n",
       "      <td>44</td>\n",
       "      <td>38</td>\n",
       "      <td>3860.3</td>\n",
       "    </tr>\n",
       "    <tr>\n",
       "      <th>173</th>\n",
       "      <td>2019-08-02</td>\n",
       "      <td>B</td>\n",
       "      <td>45</td>\n",
       "      <td>43</td>\n",
       "      <td>4243.8</td>\n",
       "    </tr>\n",
       "    <tr>\n",
       "      <th>291</th>\n",
       "      <td>2019-08-03</td>\n",
       "      <td>A</td>\n",
       "      <td>68</td>\n",
       "      <td>62</td>\n",
       "      <td>5675.5</td>\n",
       "    </tr>\n",
       "  </tbody>\n",
       "</table>\n",
       "</div>"
      ],
      "text/plain": [
       "          date group  transactionId  visitorId  revenue\n",
       "55  2019-08-01     A             24         20   2356.8\n",
       "66  2019-08-01     B             21         20   1620.0\n",
       "175 2019-08-02     A             44         38   3860.3\n",
       "173 2019-08-02     B             45         43   4243.8\n",
       "291 2019-08-03     A             68         62   5675.5"
      ]
     },
     "execution_count": 16,
     "metadata": {},
     "output_type": "execute_result"
    }
   ],
   "source": [
    "ordersAggregated = datesGroups.apply(lambda x : orders[np.logical_and(orders['date'] <= x['date'],\n",
    "                                                                     orders['group'] == x['group'])]\n",
    "                                    .agg({'date' : 'max', \n",
    "                                          'group' : 'max',\n",
    "                                          'transactionId': pd.Series.nunique,\n",
    "                                          'visitorId' : pd.Series.nunique, \n",
    "                                          'revenue': 'sum'}), axis=1).sort_values(by = ['date', 'group'])\n",
    "ordersAggregated.head()"
   ]
  },
  {
   "cell_type": "code",
   "execution_count": 17,
   "metadata": {},
   "outputs": [
    {
     "data": {
      "text/html": [
       "<div>\n",
       "<style scoped>\n",
       "    .dataframe tbody tr th:only-of-type {\n",
       "        vertical-align: middle;\n",
       "    }\n",
       "\n",
       "    .dataframe tbody tr th {\n",
       "        vertical-align: top;\n",
       "    }\n",
       "\n",
       "    .dataframe thead th {\n",
       "        text-align: right;\n",
       "    }\n",
       "</style>\n",
       "<table border=\"1\" class=\"dataframe\">\n",
       "  <thead>\n",
       "    <tr style=\"text-align: right;\">\n",
       "      <th></th>\n",
       "      <th>date</th>\n",
       "      <th>group</th>\n",
       "      <th>visits</th>\n",
       "    </tr>\n",
       "  </thead>\n",
       "  <tbody>\n",
       "    <tr>\n",
       "      <th>55</th>\n",
       "      <td>2019-08-01</td>\n",
       "      <td>A</td>\n",
       "      <td>719</td>\n",
       "    </tr>\n",
       "    <tr>\n",
       "      <th>66</th>\n",
       "      <td>2019-08-01</td>\n",
       "      <td>B</td>\n",
       "      <td>713</td>\n",
       "    </tr>\n",
       "    <tr>\n",
       "      <th>175</th>\n",
       "      <td>2019-08-02</td>\n",
       "      <td>A</td>\n",
       "      <td>1338</td>\n",
       "    </tr>\n",
       "    <tr>\n",
       "      <th>173</th>\n",
       "      <td>2019-08-02</td>\n",
       "      <td>B</td>\n",
       "      <td>1294</td>\n",
       "    </tr>\n",
       "    <tr>\n",
       "      <th>291</th>\n",
       "      <td>2019-08-03</td>\n",
       "      <td>A</td>\n",
       "      <td>1845</td>\n",
       "    </tr>\n",
       "  </tbody>\n",
       "</table>\n",
       "</div>"
      ],
      "text/plain": [
       "          date group  visits\n",
       "55  2019-08-01     A     719\n",
       "66  2019-08-01     B     713\n",
       "175 2019-08-02     A    1338\n",
       "173 2019-08-02     B    1294\n",
       "291 2019-08-03     A    1845"
      ]
     },
     "execution_count": 17,
     "metadata": {},
     "output_type": "execute_result"
    }
   ],
   "source": [
    "visitsAggregated = datesGroups.apply(lambda x: visits[np.logical_and(visits['date']<=x['date'], visits['group']==x['group'])]\n",
    "                                     .agg({'date': 'max', \n",
    "                                            'group': 'max', \n",
    "                                            'visits': 'sum'}), axis = 1).sort_values(by = ['date', 'group'])\n",
    "visitsAggregated.head()"
   ]
  },
  {
   "cell_type": "code",
   "execution_count": 18,
   "metadata": {},
   "outputs": [
    {
     "data": {
      "text/html": [
       "<div>\n",
       "<style scoped>\n",
       "    .dataframe tbody tr th:only-of-type {\n",
       "        vertical-align: middle;\n",
       "    }\n",
       "\n",
       "    .dataframe tbody tr th {\n",
       "        vertical-align: top;\n",
       "    }\n",
       "\n",
       "    .dataframe thead th {\n",
       "        text-align: right;\n",
       "    }\n",
       "</style>\n",
       "<table border=\"1\" class=\"dataframe\">\n",
       "  <thead>\n",
       "    <tr style=\"text-align: right;\">\n",
       "      <th></th>\n",
       "      <th>date</th>\n",
       "      <th>group</th>\n",
       "      <th>transactions</th>\n",
       "      <th>buyers</th>\n",
       "      <th>revenue</th>\n",
       "      <th>visits</th>\n",
       "    </tr>\n",
       "  </thead>\n",
       "  <tbody>\n",
       "    <tr>\n",
       "      <th>0</th>\n",
       "      <td>2019-08-01</td>\n",
       "      <td>A</td>\n",
       "      <td>24</td>\n",
       "      <td>20</td>\n",
       "      <td>2356.8</td>\n",
       "      <td>719</td>\n",
       "    </tr>\n",
       "    <tr>\n",
       "      <th>1</th>\n",
       "      <td>2019-08-01</td>\n",
       "      <td>B</td>\n",
       "      <td>21</td>\n",
       "      <td>20</td>\n",
       "      <td>1620.0</td>\n",
       "      <td>713</td>\n",
       "    </tr>\n",
       "    <tr>\n",
       "      <th>2</th>\n",
       "      <td>2019-08-02</td>\n",
       "      <td>A</td>\n",
       "      <td>44</td>\n",
       "      <td>38</td>\n",
       "      <td>3860.3</td>\n",
       "      <td>1338</td>\n",
       "    </tr>\n",
       "    <tr>\n",
       "      <th>3</th>\n",
       "      <td>2019-08-02</td>\n",
       "      <td>B</td>\n",
       "      <td>45</td>\n",
       "      <td>43</td>\n",
       "      <td>4243.8</td>\n",
       "      <td>1294</td>\n",
       "    </tr>\n",
       "    <tr>\n",
       "      <th>4</th>\n",
       "      <td>2019-08-03</td>\n",
       "      <td>A</td>\n",
       "      <td>68</td>\n",
       "      <td>62</td>\n",
       "      <td>5675.5</td>\n",
       "      <td>1845</td>\n",
       "    </tr>\n",
       "  </tbody>\n",
       "</table>\n",
       "</div>"
      ],
      "text/plain": [
       "        date group  transactions  buyers  revenue  visits\n",
       "0 2019-08-01     A            24      20   2356.8     719\n",
       "1 2019-08-01     B            21      20   1620.0     713\n",
       "2 2019-08-02     A            44      38   3860.3    1338\n",
       "3 2019-08-02     B            45      43   4243.8    1294\n",
       "4 2019-08-03     A            68      62   5675.5    1845"
      ]
     },
     "execution_count": 18,
     "metadata": {},
     "output_type": "execute_result"
    }
   ],
   "source": [
    "cumulativeData = ordersAggregated.merge(visitsAggregated, left_on=['date', 'group'], right_on=['date', 'group'])\n",
    "cumulativeData.columns = [\n",
    "    'date',\n",
    "    'group',\n",
    "    'transactions',\n",
    "    'buyers',\n",
    "    'revenue', \n",
    "    'visits'\n",
    "]\n",
    "cumulativeData.head()"
   ]
  },
  {
   "cell_type": "markdown",
   "metadata": {},
   "source": [
    "### Graph cumulative revenue by group"
   ]
  },
  {
   "cell_type": "markdown",
   "metadata": {},
   "source": [
    "Let's create DataFrames with cumulative revenue by day for each group and plot the graph"
   ]
  },
  {
   "cell_type": "code",
   "execution_count": 19,
   "metadata": {},
   "outputs": [],
   "source": [
    "cumulativeRevenueA = cumulativeData[cumulativeData['group'] == 'A'][['date', 'revenue', 'transactions']]\n",
    "cumulativeRevenueB = cumulativeData[cumulativeData['group'] == 'B'][['date', 'revenue', 'transactions']]"
   ]
  },
  {
   "cell_type": "code",
   "execution_count": 20,
   "metadata": {},
   "outputs": [
    {
     "data": {
      "image/png": "[encoded data removed]",
      "text/plain": [
       "<Figure size 1080x432 with 1 Axes>"
      ]
     },
     "metadata": {
      "needs_background": "light"
     },
     "output_type": "display_data"
    }
   ],
   "source": [
    "plt.rcParams[\"figure.figsize\"] = (15,6)\n",
    "plt.plot(cumulativeRevenueA['date'], cumulativeRevenueA['revenue'], label = 'A');\n",
    "plt.plot(cumulativeRevenueB['date'], cumulativeRevenueB['revenue'], label = 'B');\n",
    "plt.grid()\n",
    "plt.title('Cumulative revenue graphs by day');\n",
    "plt.xlabel('Date');\n",
    "plt.ylabel('Cumulative revenue');\n",
    "plt.xticks(rotation=45);\n",
    "plt.legend();"
   ]
  },
  {
   "cell_type": "markdown",
   "metadata": {},
   "source": [
    "**Conclusion:**   \n",
    "\n",
    "As we can see revenue is rising steadily throughout the whole test. But for test group we may see first of all almost the same result at the beginning of test, smooth gap between 5th and 13th August for \"B\" group, and obvious peak in 19th August (that might be kind of order with huge check, we don't know), and after that graph stabilize during the rest period of test  "
   ]
  },
  {
   "cell_type": "markdown",
   "metadata": {},
   "source": [
    "### Graph cumulative average order size by group"
   ]
  },
  {
   "cell_type": "markdown",
   "metadata": {},
   "source": [
    "Let's plot a graph of average order. To do so we'll divide revenue by number of transactions."
   ]
  },
  {
   "cell_type": "code",
   "execution_count": 21,
   "metadata": {},
   "outputs": [
    {
     "data": {
      "image/png": "[encoded data removed]",
      "text/plain": [
       "<Figure size 1080x432 with 1 Axes>"
      ]
     },
     "metadata": {
      "needs_background": "light"
     },
     "output_type": "display_data"
    }
   ],
   "source": [
    "plt.rcParams[\"figure.figsize\"] = (15,6)\n",
    "plt.plot(cumulativeRevenueA['date'], cumulativeRevenueA['revenue']/cumulativeRevenueA['transactions'], label = 'A');\n",
    "plt.plot(cumulativeRevenueB['date'], cumulativeRevenueB['revenue']/cumulativeRevenueB['transactions'], label = 'B');\n",
    "plt.grid()\n",
    "plt.title('Cumulative average order size by day');\n",
    "plt.xlabel('Date');\n",
    "plt.ylabel('Cumulative average order size');\n",
    "plt.xticks(rotation=45);\n",
    "plt.legend();"
   ]
  },
  {
   "cell_type": "markdown",
   "metadata": {},
   "source": [
    "**Conclusion:**     \n",
    "\n",
    "The graph tells us about similar situation: at the beginning of test the test group has kind of gap with control group from 2th August to 10th August, after that the control group has small peak on 13th August, and obvious surge for test group in 19th August. Graph stabilize during the rest period of test, but for test group keeps on falling. "
   ]
  },
  {
   "cell_type": "markdown",
   "metadata": {},
   "source": [
    "### Graph relative difference in cumulative average order size for group B compared with group A."
   ]
  },
  {
   "cell_type": "markdown",
   "metadata": {},
   "source": [
    "First, let's merge two cumulative revenue tables"
   ]
  },
  {
   "cell_type": "code",
   "execution_count": 22,
   "metadata": {},
   "outputs": [
    {
     "data": {
      "text/html": [
       "<div>\n",
       "<style scoped>\n",
       "    .dataframe tbody tr th:only-of-type {\n",
       "        vertical-align: middle;\n",
       "    }\n",
       "\n",
       "    .dataframe tbody tr th {\n",
       "        vertical-align: top;\n",
       "    }\n",
       "\n",
       "    .dataframe thead th {\n",
       "        text-align: right;\n",
       "    }\n",
       "</style>\n",
       "<table border=\"1\" class=\"dataframe\">\n",
       "  <thead>\n",
       "    <tr style=\"text-align: right;\">\n",
       "      <th></th>\n",
       "      <th>date</th>\n",
       "      <th>revenueA</th>\n",
       "      <th>transactionsA</th>\n",
       "      <th>revenueB</th>\n",
       "      <th>transactionsB</th>\n",
       "    </tr>\n",
       "  </thead>\n",
       "  <tbody>\n",
       "    <tr>\n",
       "      <th>0</th>\n",
       "      <td>2019-08-01</td>\n",
       "      <td>2356.8</td>\n",
       "      <td>24</td>\n",
       "      <td>1620.0</td>\n",
       "      <td>21</td>\n",
       "    </tr>\n",
       "    <tr>\n",
       "      <th>1</th>\n",
       "      <td>2019-08-02</td>\n",
       "      <td>3860.3</td>\n",
       "      <td>44</td>\n",
       "      <td>4243.8</td>\n",
       "      <td>45</td>\n",
       "    </tr>\n",
       "    <tr>\n",
       "      <th>2</th>\n",
       "      <td>2019-08-03</td>\n",
       "      <td>5675.5</td>\n",
       "      <td>68</td>\n",
       "      <td>6050.6</td>\n",
       "      <td>61</td>\n",
       "    </tr>\n",
       "    <tr>\n",
       "      <th>3</th>\n",
       "      <td>2019-08-04</td>\n",
       "      <td>6822.1</td>\n",
       "      <td>84</td>\n",
       "      <td>7767.9</td>\n",
       "      <td>78</td>\n",
       "    </tr>\n",
       "    <tr>\n",
       "      <th>4</th>\n",
       "      <td>2019-08-05</td>\n",
       "      <td>8810.2</td>\n",
       "      <td>109</td>\n",
       "      <td>9262.9</td>\n",
       "      <td>101</td>\n",
       "    </tr>\n",
       "  </tbody>\n",
       "</table>\n",
       "</div>"
      ],
      "text/plain": [
       "        date  revenueA  transactionsA  revenueB  transactionsB\n",
       "0 2019-08-01    2356.8             24    1620.0             21\n",
       "1 2019-08-02    3860.3             44    4243.8             45\n",
       "2 2019-08-03    5675.5             68    6050.6             61\n",
       "3 2019-08-04    6822.1             84    7767.9             78\n",
       "4 2019-08-05    8810.2            109    9262.9            101"
      ]
     },
     "execution_count": 22,
     "metadata": {},
     "output_type": "execute_result"
    }
   ],
   "source": [
    "mergedCumulativeRevenue = cumulativeRevenueA.merge(cumulativeRevenueB, left_on = 'date', right_on = 'date', how = 'left', \n",
    "                                                  suffixes = ['A', 'B'])\n",
    "mergedCumulativeRevenue.head()"
   ]
  },
  {
   "cell_type": "code",
   "execution_count": 23,
   "metadata": {},
   "outputs": [
    {
     "data": {
      "image/png": "[encoded data removed]",
      "text/plain": [
       "<Figure size 1080x432 with 1 Axes>"
      ]
     },
     "metadata": {
      "needs_background": "light"
     },
     "output_type": "display_data"
    }
   ],
   "source": [
    "plt.plot(mergedCumulativeRevenue['date'], \n",
    "         (mergedCumulativeRevenue['revenueB']/mergedCumulativeRevenue['transactionsB']) \n",
    "         / (mergedCumulativeRevenue['revenueA']/mergedCumulativeRevenue['transactionsA']) -1);\n",
    "plt.axhline(y = 0, color = 'black', linestyle = '--');\n",
    "plt.grid();\n",
    "plt.xticks(rotation=45);\n",
    "plt.title('Relative difference in cumulative average order size for group B compared with group A');\n",
    "plt.xlabel('Date');\n",
    "plt.ylabel('Difference in cumulative average order size');"
   ]
  },
  {
   "cell_type": "markdown",
   "metadata": {},
   "source": [
    "**Conclusion:**   \n",
    "\n",
    "And again there are couple of spikes between two groups at the several points  "
   ]
  },
  {
   "cell_type": "markdown",
   "metadata": {},
   "source": [
    "### Calculate each group's conversion rate as the ratio of orders to the number of visits for each day. Plot the daily conversion rates of the two groups and describe the difference."
   ]
  },
  {
   "cell_type": "markdown",
   "metadata": {},
   "source": [
    "Let's add a new column for our cumulative table"
   ]
  },
  {
   "cell_type": "code",
   "execution_count": 24,
   "metadata": {},
   "outputs": [],
   "source": [
    "cumulativeData['conversion'] = cumulativeData['transactions'] / cumulativeData['visits']\n",
    "cumulativeDataA = cumulativeData[cumulativeData['group'] == 'A']\n",
    "cumulativeDataB = cumulativeData[cumulativeData['group'] == 'B']"
   ]
  },
  {
   "cell_type": "code",
   "execution_count": 25,
   "metadata": {},
   "outputs": [
    {
     "data": {
      "image/png": "[encoded data removed]",
      "text/plain": [
       "<Figure size 1080x432 with 1 Axes>"
      ]
     },
     "metadata": {
      "needs_background": "light"
     },
     "output_type": "display_data"
    }
   ],
   "source": [
    "plt.plot(cumulativeDataA['date'], cumulativeDataA['conversion'], label = 'A')\n",
    "plt.plot(cumulativeDataA['date'], cumulativeDataB['conversion'], label = 'B')\n",
    "plt.grid();\n",
    "plt.xticks(rotation=45);\n",
    "plt.title('Conversion rate for each day');\n",
    "plt.xlabel('Date');\n",
    "plt.ylabel('Ratio of orders to number of visits');\n",
    "plt.legend();"
   ]
  },
  {
   "cell_type": "markdown",
   "metadata": {},
   "source": [
    "**Conclusion:**   \n",
    "\n",
    "So, in the graph we see that until the 6th August control group conversion rate is better, they intersect on 6th of August and test group has higher rate after. The entire graph varies a lot at the beginning of the test and less at the remaining period. Both groups have the same trend, and varies almost in the same direction. "
   ]
  },
  {
   "cell_type": "code",
   "execution_count": 26,
   "metadata": {},
   "outputs": [
    {
     "data": {
      "text/html": [
       "<div>\n",
       "<style scoped>\n",
       "    .dataframe tbody tr th:only-of-type {\n",
       "        vertical-align: middle;\n",
       "    }\n",
       "\n",
       "    .dataframe tbody tr th {\n",
       "        vertical-align: top;\n",
       "    }\n",
       "\n",
       "    .dataframe thead th {\n",
       "        text-align: right;\n",
       "    }\n",
       "</style>\n",
       "<table border=\"1\" class=\"dataframe\">\n",
       "  <thead>\n",
       "    <tr style=\"text-align: right;\">\n",
       "      <th></th>\n",
       "      <th>date</th>\n",
       "      <th>conversionA</th>\n",
       "      <th>conversionB</th>\n",
       "    </tr>\n",
       "  </thead>\n",
       "  <tbody>\n",
       "    <tr>\n",
       "      <th>0</th>\n",
       "      <td>2019-08-01</td>\n",
       "      <td>0.033380</td>\n",
       "      <td>0.029453</td>\n",
       "    </tr>\n",
       "    <tr>\n",
       "      <th>1</th>\n",
       "      <td>2019-08-02</td>\n",
       "      <td>0.032885</td>\n",
       "      <td>0.034776</td>\n",
       "    </tr>\n",
       "    <tr>\n",
       "      <th>2</th>\n",
       "      <td>2019-08-03</td>\n",
       "      <td>0.036856</td>\n",
       "      <td>0.033833</td>\n",
       "    </tr>\n",
       "    <tr>\n",
       "      <th>3</th>\n",
       "      <td>2019-08-04</td>\n",
       "      <td>0.032787</td>\n",
       "      <td>0.030315</td>\n",
       "    </tr>\n",
       "    <tr>\n",
       "      <th>4</th>\n",
       "      <td>2019-08-05</td>\n",
       "      <td>0.032851</td>\n",
       "      <td>0.030793</td>\n",
       "    </tr>\n",
       "  </tbody>\n",
       "</table>\n",
       "</div>"
      ],
      "text/plain": [
       "        date  conversionA  conversionB\n",
       "0 2019-08-01     0.033380     0.029453\n",
       "1 2019-08-02     0.032885     0.034776\n",
       "2 2019-08-03     0.036856     0.033833\n",
       "3 2019-08-04     0.032787     0.030315\n",
       "4 2019-08-05     0.032851     0.030793"
      ]
     },
     "execution_count": 26,
     "metadata": {},
     "output_type": "execute_result"
    }
   ],
   "source": [
    "mergedCumConv = cumulativeDataA[['date', 'conversion']].merge(cumulativeDataB[['date', 'conversion']], \n",
    "                                                              left_on = 'date', right_on = 'date', \n",
    "                                                             how = 'left', suffixes = ['A', 'B'])\n",
    "mergedCumConv.head()"
   ]
  },
  {
   "cell_type": "code",
   "execution_count": 27,
   "metadata": {},
   "outputs": [
    {
     "data": {
      "image/png": "[encoded data removed]",
      "text/plain": [
       "<Figure size 1080x432 with 1 Axes>"
      ]
     },
     "metadata": {
      "needs_background": "light"
     },
     "output_type": "display_data"
    }
   ],
   "source": [
    "plt.plot(mergedCumConv['date'], mergedCumConv['conversionB'] / mergedCumConv['conversionA'] - 1);\n",
    "plt.axhline(y = 0, color = 'black', linestyle = '--');\n",
    "plt.grid();\n",
    "plt.xticks(rotation=45);\n",
    "plt.title('Relative difference for cumulative conversion rate for group B compared with group A');\n",
    "plt.xlabel('Date');\n",
    "plt.ylabel('Difference in cumulative conversion rate');"
   ]
  },
  {
   "cell_type": "markdown",
   "metadata": {},
   "source": [
    "As we see, group \"B\" has an obvious gap through the major part of the test: stable rising from 6th August to peak on 15th August, and trend on decline after. "
   ]
  },
  {
   "cell_type": "markdown",
   "metadata": {},
   "source": [
    "### Plot a scatter chart of the number of orders per user. Make conclusions and conjectures."
   ]
  },
  {
   "cell_type": "markdown",
   "metadata": {},
   "source": [
    "First, let's create DataFrame grouped by visitors and number of orders "
   ]
  },
  {
   "cell_type": "code",
   "execution_count": 28,
   "metadata": {},
   "outputs": [
    {
     "data": {
      "text/html": [
       "<div>\n",
       "<style scoped>\n",
       "    .dataframe tbody tr th:only-of-type {\n",
       "        vertical-align: middle;\n",
       "    }\n",
       "\n",
       "    .dataframe tbody tr th {\n",
       "        vertical-align: top;\n",
       "    }\n",
       "\n",
       "    .dataframe thead th {\n",
       "        text-align: right;\n",
       "    }\n",
       "</style>\n",
       "<table border=\"1\" class=\"dataframe\">\n",
       "  <thead>\n",
       "    <tr style=\"text-align: right;\">\n",
       "      <th></th>\n",
       "      <th>visitorId</th>\n",
       "      <th>orders</th>\n",
       "    </tr>\n",
       "  </thead>\n",
       "  <tbody>\n",
       "    <tr>\n",
       "      <th>0</th>\n",
       "      <td>5114589</td>\n",
       "      <td>1</td>\n",
       "    </tr>\n",
       "    <tr>\n",
       "      <th>1</th>\n",
       "      <td>6958315</td>\n",
       "      <td>1</td>\n",
       "    </tr>\n",
       "    <tr>\n",
       "      <th>2</th>\n",
       "      <td>8300375</td>\n",
       "      <td>2</td>\n",
       "    </tr>\n",
       "    <tr>\n",
       "      <th>3</th>\n",
       "      <td>11685486</td>\n",
       "      <td>1</td>\n",
       "    </tr>\n",
       "    <tr>\n",
       "      <th>4</th>\n",
       "      <td>39475350</td>\n",
       "      <td>1</td>\n",
       "    </tr>\n",
       "  </tbody>\n",
       "</table>\n",
       "</div>"
      ],
      "text/plain": [
       "   visitorId  orders\n",
       "0    5114589       1\n",
       "1    6958315       1\n",
       "2    8300375       2\n",
       "3   11685486       1\n",
       "4   39475350       1"
      ]
     },
     "execution_count": 28,
     "metadata": {},
     "output_type": "execute_result"
    }
   ],
   "source": [
    "ordersByUser = (orders.drop(['date', 'revenue', 'group'], axis = 1)\n",
    "                .groupby('visitorId', as_index = False)\n",
    "                .agg({'transactionId': pd.Series.nunique}))\n",
    "ordersByUser.columns = ['visitorId', 'orders']\n",
    "ordersByUser.head()"
   ]
  },
  {
   "cell_type": "code",
   "execution_count": 49,
   "metadata": {},
   "outputs": [
    {
     "data": {
      "image/png": "[encoded data removed]",
      "text/plain": [
       "<Figure size 1080x432 with 1 Axes>"
      ]
     },
     "metadata": {
      "needs_background": "light"
     },
     "output_type": "display_data"
    }
   ],
   "source": [
    "x_values = pd.Series(range(0, len(ordersByUser)))\n",
    "plt.scatter(x_values, ordersByUser['orders']);\n",
    "plt.title('Dispersion of orders');\n",
    "plt.xlabel('Number of orders');\n",
    "plt.ylabel('Level of orders');"
   ]
  },
  {
   "cell_type": "markdown",
   "metadata": {},
   "source": [
    "**Conclusion:**   \n",
    "\n",
    "On the graph we see that there are a pretty large number of users with two or more orders. It's not obvious from which level of orders we can consider that they are anomalies, we'll determine that in the future. "
   ]
  },
  {
   "cell_type": "markdown",
   "metadata": {},
   "source": [
    "### Calculate the 95th and 99th percentiles for the number of orders per user. Define the point at which a data point becomes an anomaly."
   ]
  },
  {
   "cell_type": "code",
   "execution_count": 30,
   "metadata": {},
   "outputs": [
    {
     "name": "stdout",
     "output_type": "stream",
     "text": [
      "[2. 4.]\n"
     ]
    }
   ],
   "source": [
    "print(np.percentile(ordersByUser['orders'], [95, 99]))"
   ]
  },
  {
   "cell_type": "markdown",
   "metadata": {},
   "source": [
    "**Conclusion:**   \n",
    "\n",
    "Ok, not more than 1% of users made 4 orders, and not more 5% made just 2 orders. Let's consider that users with more than 2 orders will be outliers. "
   ]
  },
  {
   "cell_type": "markdown",
   "metadata": {},
   "source": [
    "### Plot a scatter chart of order prices. Make conclusions and conjectures."
   ]
  },
  {
   "cell_type": "code",
   "execution_count": 31,
   "metadata": {},
   "outputs": [
    {
     "data": {
      "image/png": "[encoded data removed]",
      "text/plain": [
       "<Figure size 1080x432 with 1 Axes>"
      ]
     },
     "metadata": {
      "needs_background": "light"
     },
     "output_type": "display_data"
    }
   ],
   "source": [
    "x_values_prices = pd.Series(range(0, len(orders['revenue'])))\n",
    "plt.scatter(x_values_prices, orders['revenue']);\n",
    "plt.title('Dispersion of revenue');\n",
    "plt.xlabel('Number of orders');\n",
    "plt.ylabel('Level of revenue');"
   ]
  },
  {
   "cell_type": "markdown",
   "metadata": {},
   "source": [
    "**Conclusion:**   \n",
    "\n",
    "Graph tells us that there is just one order with a huge check (20000), and most orders were placed with check less than 1000. "
   ]
  },
  {
   "cell_type": "markdown",
   "metadata": {},
   "source": [
    "### Calculate the 95th and 99th percentiles of order prices. Define the point at which a data point becomes an anomaly."
   ]
  },
  {
   "cell_type": "code",
   "execution_count": 32,
   "metadata": {},
   "outputs": [
    {
     "name": "stdout",
     "output_type": "stream",
     "text": [
      "[435.54  900.904]\n"
     ]
    }
   ],
   "source": [
    "print(np.percentile(orders['revenue'], [95, 99]))"
   ]
  },
  {
   "cell_type": "markdown",
   "metadata": {},
   "source": [
    "**Conclusion:**   \n",
    "\n",
    "Less than 1% orders - 900 dollars, less than 5% - 435 dollars. Let's consider that orders with check more than 450 dollars - outliers"
   ]
  },
  {
   "cell_type": "markdown",
   "metadata": {},
   "source": [
    "### Find the statistical significance of the difference in conversion between the groups using the raw data. Make conclusions and conjectures."
   ]
  },
  {
   "cell_type": "markdown",
   "metadata": {},
   "source": [
    "For finding statistical significance we'll use the Mann-Whitney U test. We'll create two samples from subDataFrames, \"sample A\" and \"sample B\" where we pass users from different groups and corresponding numbers of orders."
   ]
  },
  {
   "cell_type": "code",
   "execution_count": 33,
   "metadata": {},
   "outputs": [
    {
     "data": {
      "text/html": [
       "<div>\n",
       "<style scoped>\n",
       "    .dataframe tbody tr th:only-of-type {\n",
       "        vertical-align: middle;\n",
       "    }\n",
       "\n",
       "    .dataframe tbody tr th {\n",
       "        vertical-align: top;\n",
       "    }\n",
       "\n",
       "    .dataframe thead th {\n",
       "        text-align: right;\n",
       "    }\n",
       "</style>\n",
       "<table border=\"1\" class=\"dataframe\">\n",
       "  <thead>\n",
       "    <tr style=\"text-align: right;\">\n",
       "      <th></th>\n",
       "      <th>visitorId</th>\n",
       "      <th>orders</th>\n",
       "    </tr>\n",
       "  </thead>\n",
       "  <tbody>\n",
       "    <tr>\n",
       "      <th>0</th>\n",
       "      <td>8300375</td>\n",
       "      <td>1</td>\n",
       "    </tr>\n",
       "    <tr>\n",
       "      <th>1</th>\n",
       "      <td>11685486</td>\n",
       "      <td>1</td>\n",
       "    </tr>\n",
       "    <tr>\n",
       "      <th>2</th>\n",
       "      <td>54447517</td>\n",
       "      <td>1</td>\n",
       "    </tr>\n",
       "    <tr>\n",
       "      <th>3</th>\n",
       "      <td>66685450</td>\n",
       "      <td>1</td>\n",
       "    </tr>\n",
       "    <tr>\n",
       "      <th>4</th>\n",
       "      <td>78758296</td>\n",
       "      <td>1</td>\n",
       "    </tr>\n",
       "  </tbody>\n",
       "</table>\n",
       "</div>"
      ],
      "text/plain": [
       "   visitorId  orders\n",
       "0    8300375       1\n",
       "1   11685486       1\n",
       "2   54447517       1\n",
       "3   66685450       1\n",
       "4   78758296       1"
      ]
     },
     "execution_count": 33,
     "metadata": {},
     "output_type": "execute_result"
    }
   ],
   "source": [
    "ordersByUserA = orders[orders['group'] == 'A'].groupby('visitorId', as_index = False).agg({'transactionId': pd.Series.nunique})\n",
    "ordersByUserA.columns = ['visitorId', 'orders']\n",
    "ordersByUserA.head()"
   ]
  },
  {
   "cell_type": "code",
   "execution_count": 34,
   "metadata": {},
   "outputs": [
    {
     "data": {
      "text/html": [
       "<div>\n",
       "<style scoped>\n",
       "    .dataframe tbody tr th:only-of-type {\n",
       "        vertical-align: middle;\n",
       "    }\n",
       "\n",
       "    .dataframe tbody tr th {\n",
       "        vertical-align: top;\n",
       "    }\n",
       "\n",
       "    .dataframe thead th {\n",
       "        text-align: right;\n",
       "    }\n",
       "</style>\n",
       "<table border=\"1\" class=\"dataframe\">\n",
       "  <thead>\n",
       "    <tr style=\"text-align: right;\">\n",
       "      <th></th>\n",
       "      <th>visitorId</th>\n",
       "      <th>orders</th>\n",
       "    </tr>\n",
       "  </thead>\n",
       "  <tbody>\n",
       "    <tr>\n",
       "      <th>0</th>\n",
       "      <td>5114589</td>\n",
       "      <td>1</td>\n",
       "    </tr>\n",
       "    <tr>\n",
       "      <th>1</th>\n",
       "      <td>6958315</td>\n",
       "      <td>1</td>\n",
       "    </tr>\n",
       "    <tr>\n",
       "      <th>2</th>\n",
       "      <td>8300375</td>\n",
       "      <td>1</td>\n",
       "    </tr>\n",
       "    <tr>\n",
       "      <th>3</th>\n",
       "      <td>39475350</td>\n",
       "      <td>1</td>\n",
       "    </tr>\n",
       "    <tr>\n",
       "      <th>4</th>\n",
       "      <td>47206413</td>\n",
       "      <td>1</td>\n",
       "    </tr>\n",
       "  </tbody>\n",
       "</table>\n",
       "</div>"
      ],
      "text/plain": [
       "   visitorId  orders\n",
       "0    5114589       1\n",
       "1    6958315       1\n",
       "2    8300375       1\n",
       "3   39475350       1\n",
       "4   47206413       1"
      ]
     },
     "execution_count": 34,
     "metadata": {},
     "output_type": "execute_result"
    }
   ],
   "source": [
    "ordersByUserB = orders[orders['group'] == 'B'].groupby('visitorId', as_index = False).agg({'transactionId': pd.Series.nunique})\n",
    "ordersByUserB.columns = ['visitorId', 'orders']\n",
    "ordersByUserB.head()"
   ]
  },
  {
   "cell_type": "code",
   "execution_count": 35,
   "metadata": {},
   "outputs": [
    {
     "data": {
      "text/plain": [
       "0        1\n",
       "1        1\n",
       "2        1\n",
       "3        1\n",
       "4        1\n",
       "        ..\n",
       "18228    0\n",
       "18229    0\n",
       "18230    0\n",
       "18231    0\n",
       "18232    0\n",
       "Name: orders, Length: 18736, dtype: int64"
      ]
     },
     "execution_count": 35,
     "metadata": {},
     "output_type": "execute_result"
    }
   ],
   "source": [
    "sampleA = pd.concat([ordersByUserA['orders'], \n",
    "                    pd.Series(0, index = np.arange(visits[visits['group'] == 'A']\n",
    "                                                   ['visits'].sum() - len(ordersByUserA['orders'])), \n",
    "                              name = 'orders')], axis = 0)\n",
    "sampleA"
   ]
  },
  {
   "cell_type": "code",
   "execution_count": 36,
   "metadata": {},
   "outputs": [
    {
     "data": {
      "text/plain": [
       "0        1\n",
       "1        1\n",
       "2        1\n",
       "3        1\n",
       "4        1\n",
       "        ..\n",
       "18325    0\n",
       "18326    0\n",
       "18327    0\n",
       "18328    0\n",
       "18329    0\n",
       "Name: orders, Length: 18916, dtype: int64"
      ]
     },
     "execution_count": 36,
     "metadata": {},
     "output_type": "execute_result"
    }
   ],
   "source": [
    "sampleB = pd.concat([ordersByUserB['orders'],\n",
    "                    pd.Series(0, index = np.arange(visits[visits['group'] == 'B']\n",
    "                                                  ['visits'].sum() - len(ordersByUserB['orders'])),\n",
    "                             name = 'orders')], axis = 0)\n",
    "sampleB"
   ]
  },
  {
   "cell_type": "markdown",
   "metadata": {},
   "source": [
    "**After reviewer's comment:**   \n",
    "\n",
    "We'll declare hypotheses in the following way:   \n",
    "1. H0 (Null): **There is NO statistically significant difference between the two groups**    \n",
    "\n",
    "2. H1 (Alternative): **Yes, statistically significant difference exists**"
   ]
  },
  {
   "cell_type": "code",
   "execution_count": 37,
   "metadata": {},
   "outputs": [
    {
     "name": "stdout",
     "output_type": "stream",
     "text": [
      "0.017\n",
      "0.138\n"
     ]
    }
   ],
   "source": [
    "print(\"{0:.3f}\".format(stats.mannwhitneyu(sampleA, sampleB)[1]))\n",
    "print(\"{0:.3f}\".format(sampleB.mean()/sampleA.mean()-1))"
   ]
  },
  {
   "cell_type": "markdown",
   "metadata": {},
   "source": [
    "**Conclusion:**   \n",
    "\n",
    "It's look like test group better than control. The raw data show us that we can reject Null hypothesis, groups conversion rates have statistically significant differences. The relative conversion gain for group B compared with group A is 13,8 %. "
   ]
  },
  {
   "cell_type": "markdown",
   "metadata": {},
   "source": [
    "### Find the statistical significance of the difference in average order size between the groups using the raw data. Make conclusions and conjectures."
   ]
  },
  {
   "cell_type": "code",
   "execution_count": 38,
   "metadata": {},
   "outputs": [],
   "source": [
    "revenueA = orders[orders['group'] == 'A']['revenue']\n",
    "revenueB = orders[orders['group'] == 'B']['revenue']"
   ]
  },
  {
   "cell_type": "markdown",
   "metadata": {},
   "source": [
    "**After reviewer's comment:**   \n",
    "\n",
    "We'll declare hypotheses in the following way:   \n",
    "1. H0 (Null): **There is NO statistically significant difference between the two groups**    \n",
    "\n",
    "2. H1 (Alternative): **Yes, statistically significant difference exists**"
   ]
  },
  {
   "cell_type": "code",
   "execution_count": 39,
   "metadata": {},
   "outputs": [
    {
     "name": "stdout",
     "output_type": "stream",
     "text": [
      "0.692\n",
      "0.252\n"
     ]
    }
   ],
   "source": [
    "print(\"{0:.3f}\".format(stats.mannwhitneyu(revenueA, revenueB)[1]))\n",
    "print(\"{0:.3f}\".format(revenueB.mean()/revenueA.mean()-1))"
   ]
  },
  {
   "cell_type": "markdown",
   "metadata": {},
   "source": [
    "**Conclusion:**   \n",
    "\n",
    "P-value is significantly greater than 0.05, so there are no statistically significant differences between the group's average orders sizes. But the in the same time the relative difference is more than 25 %. "
   ]
  },
  {
   "cell_type": "markdown",
   "metadata": {},
   "source": [
    "### Find the statistical significance of the difference in conversion between the groups using the filtered data. Make conclusions and conjectures."
   ]
  },
  {
   "cell_type": "markdown",
   "metadata": {},
   "source": [
    "First, we'll define a list of \"abnormal users\", who placed more than 2 orders or with check more than 450. "
   ]
  },
  {
   "cell_type": "code",
   "execution_count": 40,
   "metadata": {},
   "outputs": [],
   "source": [
    "usersWithManyOrders = pd.concat([ordersByUserA[ordersByUserA['orders'] > 2]['visitorId'], \n",
    "                                ordersByUserB[ordersByUserB['orders'] > 2]['visitorId']], axis = 0)"
   ]
  },
  {
   "cell_type": "code",
   "execution_count": 41,
   "metadata": {},
   "outputs": [],
   "source": [
    "usersWithBigOrders = orders[orders['revenue'] > 450]['visitorId']"
   ]
  },
  {
   "cell_type": "code",
   "execution_count": 42,
   "metadata": {},
   "outputs": [
    {
     "data": {
      "text/plain": [
       "1099    148427295\n",
       "18      199603092\n",
       "928     204675465\n",
       "23      237748145\n",
       "37      249864742\n",
       "Name: visitorId, dtype: int64"
      ]
     },
     "execution_count": 42,
     "metadata": {},
     "output_type": "execute_result"
    }
   ],
   "source": [
    "abnormalUsers = pd.concat([usersWithManyOrders, usersWithBigOrders], axis = 0).drop_duplicates().sort_values()\n",
    "abnormalUsers.head()"
   ]
  },
  {
   "cell_type": "markdown",
   "metadata": {},
   "source": [
    "Now, let's retrieve samples with filtered data"
   ]
  },
  {
   "cell_type": "code",
   "execution_count": 43,
   "metadata": {},
   "outputs": [],
   "source": [
    "sampleAfil = pd.concat(\n",
    "    [ordersByUserA[np.logical_not(ordersByUserA['visitorId'].isin(abnormalUsers))]['orders'],\n",
    "     pd.Series(0, index=np.arange(visits[visits['group']=='A']\n",
    "                                  ['visits'].sum() - len(ordersByUserA['orders'])), name='orders')], axis=0)"
   ]
  },
  {
   "cell_type": "code",
   "execution_count": 44,
   "metadata": {},
   "outputs": [],
   "source": [
    "sampleBfil = pd.concat(\n",
    "    [ordersByUserB[np.logical_not(ordersByUserB['visitorId'].isin(abnormalUsers))]['orders'],\n",
    "     pd.Series(0, index=np.arange(visits[visits['group']=='B']\n",
    "                                  ['visits'].sum() - len(ordersByUserB['orders'])), name='orders')], axis=0)"
   ]
  },
  {
   "cell_type": "markdown",
   "metadata": {},
   "source": [
    "**After reviewer's comment:**   \n",
    "\n",
    "We'll declare hypotheses in the following way:   \n",
    "1. H0 (Null): **There is NO statistically significant difference between the two groups**    \n",
    "\n",
    "2. H1 (Alternative): **Yes, statistically significant difference exists**"
   ]
  },
  {
   "cell_type": "code",
   "execution_count": 45,
   "metadata": {},
   "outputs": [
    {
     "name": "stdout",
     "output_type": "stream",
     "text": [
      "0.013\n",
      "0.172\n"
     ]
    }
   ],
   "source": [
    "print(\"{0:.3f}\".format(stats.mannwhitneyu(sampleAfil, sampleBfil)[1]))\n",
    "print(\"{0:.3f}\".format(sampleBfil.mean()/sampleAfil.mean()-1))"
   ]
  },
  {
   "cell_type": "markdown",
   "metadata": {},
   "source": [
    "**Conclusion:**\n",
    "\n",
    "We see almost the same result with raw data: the p-value lower than alpha value, so we can reject Null hypothesis and declare that there are statistical significance between control and test group. The relative difference increased, now it's 17.2% in terms of conversion, we can conclude that after filtering data the values became better. "
   ]
  },
  {
   "cell_type": "markdown",
   "metadata": {},
   "source": [
    "### Find the statistical significance of the difference in average order size between the groups using the filtered data. Make conclusions and conjectures."
   ]
  },
  {
   "cell_type": "code",
   "execution_count": 46,
   "metadata": {},
   "outputs": [],
   "source": [
    "revenueAfil = orders[np.logical_and(orders['group'] == 'A', \n",
    "                                    np.logical_not(orders['visitorId'].isin(abnormalUsers)))]['revenue']"
   ]
  },
  {
   "cell_type": "code",
   "execution_count": 47,
   "metadata": {},
   "outputs": [],
   "source": [
    "revenueBfil = orders[np.logical_and(orders['group'] == 'B', \n",
    "                                    np.logical_not(orders['visitorId'].isin(abnormalUsers)))]['revenue']"
   ]
  },
  {
   "cell_type": "markdown",
   "metadata": {},
   "source": [
    "**After reviewer's comment:**   \n",
    "\n",
    "We'll declare hypotheses in the following way:   \n",
    "1. H0 (Null): **There is NO statistically significant difference between the two groups**    \n",
    "\n",
    "2. H1 (Alternative): **Yes, statistically significant difference exists**"
   ]
  },
  {
   "cell_type": "code",
   "execution_count": 48,
   "metadata": {},
   "outputs": [
    {
     "name": "stdout",
     "output_type": "stream",
     "text": [
      "0.776\n",
      "-0.021\n"
     ]
    }
   ],
   "source": [
    "print(\"{0:.3f}\".format(stats.mannwhitneyu(revenueAfil, revenueBfil)[1]))\n",
    "print(\"{0:.3f}\".format(revenueBfil.mean()/revenueAfil.mean()-1))"
   ]
  },
  {
   "cell_type": "markdown",
   "metadata": {},
   "source": [
    "**Conclusion:**   \n",
    "\n",
    "After we've got rid of anomalies the indicators changed: p-value significantly increased, so there is no reason to reject the null hypothesis and conclude that average order size differs between the groups. Moreover, difference getting worse, values for group \"B\" smaller on 2% compared group \"A\"."
   ]
  },
  {
   "cell_type": "markdown",
   "metadata": {},
   "source": [
    "### Make a decision based on the test results"
   ]
  },
  {
   "cell_type": "markdown",
   "metadata": {},
   "source": [
    "**The possible decisions are:**   \n",
    "1. Stop the test, consider one of the groups the leader.   \n",
    "2. Stop the test, conclude that there is no difference between the groups.   \n",
    "3. Continue the test. "
   ]
  },
  {
   "cell_type": "markdown",
   "metadata": {},
   "source": [
    "Based on cumulative metrics we can conclude that test group behaves itself better compared with control group: conversion rate shows how significant group \"B\" differs after week of the test how higher it is. Nonetheless, we can't confidently declare that average check or revenue increased because of one order more than 20000 dollars, that shift values of cumulative revenue and average order size in the second part of test.   \n",
    "Both A/B tests (with \"dirty\" and \"clean\" data) show that there is statistical significance between control and test group in terms of conversion and the difference little bit increased (on 3.4%). But in terms of average order size, we didn't retrieve statistical significance between two groups, moreover after filtering data we obtain small relative loss, 2%.    \n",
    "I would like recommend assume to stop the test and consider that he's successful: group \"B\" has better indicators of conversion with almost the same average check, so our hypothesis was true."
   ]
  }
 ],
 "metadata": {
  "ExecuteTimeLog": [
   {
    "duration": 380,
    "start_time": "2022-03-21T19:39:09.782Z"
   },
   {
    "duration": 65,
    "start_time": "2022-03-21T19:39:55.611Z"
   },
   {
    "duration": 66,
    "start_time": "2022-03-21T19:40:12.960Z"
   },
   {
    "duration": 21,
    "start_time": "2022-03-21T19:40:18.498Z"
   },
   {
    "duration": 17,
    "start_time": "2022-03-21T19:41:52.240Z"
   },
   {
    "duration": 9,
    "start_time": "2022-03-21T19:41:55.381Z"
   },
   {
    "duration": 12,
    "start_time": "2022-03-21T19:43:37.583Z"
   },
   {
    "duration": 3031,
    "start_time": "2022-03-21T19:45:32.985Z"
   },
   {
    "duration": 3142,
    "start_time": "2022-03-21T19:45:52.139Z"
   },
   {
    "duration": 13,
    "start_time": "2022-03-21T19:46:02.852Z"
   },
   {
    "duration": 2,
    "start_time": "2022-03-22T16:21:36.818Z"
   },
   {
    "duration": 69,
    "start_time": "2022-03-22T16:21:37.969Z"
   },
   {
    "duration": 8,
    "start_time": "2022-03-22T16:21:39.014Z"
   },
   {
    "duration": 11,
    "start_time": "2022-03-22T16:21:39.923Z"
   },
   {
    "duration": 12,
    "start_time": "2022-03-22T16:21:40.861Z"
   },
   {
    "duration": 84,
    "start_time": "2022-03-22T20:14:00.232Z"
   },
   {
    "duration": 10,
    "start_time": "2022-03-22T20:14:12.331Z"
   },
   {
    "duration": 8,
    "start_time": "2022-03-22T20:15:05.553Z"
   },
   {
    "duration": 71573,
    "start_time": "2022-03-22T20:15:47.063Z"
   },
   {
    "duration": 18544,
    "start_time": "2022-03-22T20:17:02.129Z"
   },
   {
    "duration": 6,
    "start_time": "2022-03-22T20:17:50.909Z"
   },
   {
    "duration": 16,
    "start_time": "2022-03-22T20:18:10.289Z"
   },
   {
    "duration": 58,
    "start_time": "2022-03-22T20:19:16.509Z"
   },
   {
    "duration": 9,
    "start_time": "2022-03-22T20:19:24.514Z"
   },
   {
    "duration": 11,
    "start_time": "2022-03-22T20:19:36.993Z"
   },
   {
    "duration": 18,
    "start_time": "2022-03-22T20:32:09.060Z"
   },
   {
    "duration": 19,
    "start_time": "2022-03-22T20:32:31.963Z"
   },
   {
    "duration": 12,
    "start_time": "2022-03-22T20:33:09.514Z"
   },
   {
    "duration": 422,
    "start_time": "2022-03-22T20:36:49.430Z"
   },
   {
    "duration": 14,
    "start_time": "2022-03-22T20:38:29.626Z"
   },
   {
    "duration": 44,
    "start_time": "2022-03-23T10:56:07.608Z"
   },
   {
    "duration": 9471,
    "start_time": "2022-03-23T10:56:12.989Z"
   },
   {
    "duration": 493,
    "start_time": "2022-03-23T10:56:24.814Z"
   },
   {
    "duration": 66565,
    "start_time": "2022-03-23T10:56:28.132Z"
   },
   {
    "duration": 435,
    "start_time": "2022-03-23T10:57:39.214Z"
   },
   {
    "duration": 88,
    "start_time": "2022-03-23T10:57:40.798Z"
   },
   {
    "duration": 12,
    "start_time": "2022-03-23T10:57:41.890Z"
   },
   {
    "duration": 13,
    "start_time": "2022-03-23T10:57:42.787Z"
   },
   {
    "duration": 11,
    "start_time": "2022-03-23T10:57:43.518Z"
   },
   {
    "duration": 65,
    "start_time": "2022-03-23T10:57:45.336Z"
   },
   {
    "duration": 9,
    "start_time": "2022-03-23T10:57:46.139Z"
   },
   {
    "duration": 13,
    "start_time": "2022-03-23T10:57:47.085Z"
   },
   {
    "duration": 28,
    "start_time": "2022-03-23T10:57:48.102Z"
   },
   {
    "duration": 7,
    "start_time": "2022-03-23T10:57:49.830Z"
   },
   {
    "duration": 10,
    "start_time": "2022-03-23T10:57:51.887Z"
   },
   {
    "duration": 15,
    "start_time": "2022-03-23T10:57:53.120Z"
   },
   {
    "duration": 11,
    "start_time": "2022-03-23T11:04:13.111Z"
   },
   {
    "duration": 2054,
    "start_time": "2022-03-23T11:04:14.458Z"
   },
   {
    "duration": 11,
    "start_time": "2022-03-23T11:04:34.548Z"
   },
   {
    "duration": 10,
    "start_time": "2022-03-23T11:05:23.687Z"
   },
   {
    "duration": 14,
    "start_time": "2022-03-23T11:06:04.465Z"
   },
   {
    "duration": 10,
    "start_time": "2022-03-23T11:06:11.176Z"
   },
   {
    "duration": 14,
    "start_time": "2022-03-23T11:06:21.558Z"
   },
   {
    "duration": 11,
    "start_time": "2022-03-23T11:09:41.813Z"
   },
   {
    "duration": 7,
    "start_time": "2022-03-23T11:09:58.442Z"
   },
   {
    "duration": 14,
    "start_time": "2022-03-23T11:10:08.789Z"
   },
   {
    "duration": 17,
    "start_time": "2022-03-23T11:11:20.544Z"
   },
   {
    "duration": 17,
    "start_time": "2022-03-23T11:11:56.279Z"
   },
   {
    "duration": 3,
    "start_time": "2022-03-23T11:12:37.528Z"
   },
   {
    "duration": 3,
    "start_time": "2022-03-23T11:12:39.468Z"
   },
   {
    "duration": 206,
    "start_time": "2022-03-23T11:12:44.856Z"
   },
   {
    "duration": 206,
    "start_time": "2022-03-23T11:13:11.682Z"
   },
   {
    "duration": 17,
    "start_time": "2022-03-23T12:12:32.877Z"
   },
   {
    "duration": 115,
    "start_time": "2022-03-23T12:13:30.347Z"
   },
   {
    "duration": 126,
    "start_time": "2022-03-23T12:13:41.083Z"
   },
   {
    "duration": 322,
    "start_time": "2022-03-23T12:17:10.434Z"
   },
   {
    "duration": 169,
    "start_time": "2022-03-23T12:17:25.005Z"
   },
   {
    "duration": 144,
    "start_time": "2022-03-23T12:28:27.370Z"
   },
   {
    "duration": 147,
    "start_time": "2022-03-23T12:28:47.704Z"
   },
   {
    "duration": 121,
    "start_time": "2022-03-23T12:29:12.529Z"
   },
   {
    "duration": 159,
    "start_time": "2022-03-23T12:29:30.055Z"
   },
   {
    "duration": 176,
    "start_time": "2022-03-23T12:30:21.811Z"
   },
   {
    "duration": 120,
    "start_time": "2022-03-23T12:32:18.522Z"
   },
   {
    "duration": 7,
    "start_time": "2022-03-23T12:32:31.910Z"
   },
   {
    "duration": 17,
    "start_time": "2022-03-23T12:32:52.175Z"
   },
   {
    "duration": 8,
    "start_time": "2022-03-23T12:35:10.844Z"
   },
   {
    "duration": 21,
    "start_time": "2022-03-23T12:35:17.304Z"
   },
   {
    "duration": 19,
    "start_time": "2022-03-23T12:36:42.919Z"
   },
   {
    "duration": 7,
    "start_time": "2022-03-23T12:37:34.916Z"
   },
   {
    "duration": 184,
    "start_time": "2022-03-23T12:37:36.675Z"
   },
   {
    "duration": 2141,
    "start_time": "2022-03-23T15:40:36.452Z"
   },
   {
    "duration": 219,
    "start_time": "2022-03-23T15:40:59.908Z"
   },
   {
    "duration": 70,
    "start_time": "2022-03-25T20:46:17.861Z"
   },
   {
    "duration": 1192,
    "start_time": "2022-03-25T20:46:25.374Z"
   },
   {
    "duration": 126,
    "start_time": "2022-03-25T20:46:28.029Z"
   },
   {
    "duration": 19,
    "start_time": "2022-03-25T20:46:29.439Z"
   },
   {
    "duration": 20,
    "start_time": "2022-03-25T20:46:30.416Z"
   },
   {
    "duration": 16,
    "start_time": "2022-03-25T20:46:32.014Z"
   },
   {
    "duration": 50,
    "start_time": "2022-03-25T20:46:50.273Z"
   },
   {
    "duration": 13,
    "start_time": "2022-03-25T20:46:51.838Z"
   },
   {
    "duration": 18,
    "start_time": "2022-03-25T20:46:53.545Z"
   },
   {
    "duration": 26,
    "start_time": "2022-03-25T20:46:55.965Z"
   },
   {
    "duration": 11,
    "start_time": "2022-03-25T20:46:57.225Z"
   },
   {
    "duration": 16,
    "start_time": "2022-03-25T20:46:59.395Z"
   },
   {
    "duration": 22,
    "start_time": "2022-03-25T20:47:02.136Z"
   },
   {
    "duration": 18,
    "start_time": "2022-03-25T20:47:05.509Z"
   },
   {
    "duration": 21,
    "start_time": "2022-03-25T20:47:07.946Z"
   },
   {
    "duration": 340,
    "start_time": "2022-03-25T20:47:10.651Z"
   },
   {
    "duration": 227,
    "start_time": "2022-03-25T20:47:13.207Z"
   },
   {
    "duration": 28,
    "start_time": "2022-03-25T20:47:15.710Z"
   },
   {
    "duration": 14,
    "start_time": "2022-03-25T20:47:22.856Z"
   },
   {
    "duration": 394,
    "start_time": "2022-03-25T20:47:25.579Z"
   },
   {
    "duration": 322,
    "start_time": "2022-03-25T20:49:33.482Z"
   },
   {
    "duration": 314,
    "start_time": "2022-03-25T20:49:47.513Z"
   },
   {
    "duration": 10,
    "start_time": "2022-03-25T20:49:51.931Z"
   },
   {
    "duration": 1844,
    "start_time": "2022-03-25T20:52:49.117Z"
   },
   {
    "duration": 25,
    "start_time": "2022-03-25T20:53:51.774Z"
   },
   {
    "duration": 310,
    "start_time": "2022-03-25T20:54:39.688Z"
   },
   {
    "duration": 311,
    "start_time": "2022-03-25T20:55:16.463Z"
   },
   {
    "duration": 304,
    "start_time": "2022-03-25T20:55:22.115Z"
   },
   {
    "duration": 452,
    "start_time": "2022-03-25T20:56:08.095Z"
   },
   {
    "duration": 416,
    "start_time": "2022-03-25T20:56:11.738Z"
   },
   {
    "duration": 20,
    "start_time": "2022-03-25T21:02:52.231Z"
   },
   {
    "duration": 67,
    "start_time": "2022-03-28T16:12:05.590Z"
   },
   {
    "duration": 1185,
    "start_time": "2022-03-28T16:12:12.215Z"
   },
   {
    "duration": 88,
    "start_time": "2022-03-28T16:12:14.652Z"
   },
   {
    "duration": 16,
    "start_time": "2022-03-28T16:12:16.408Z"
   },
   {
    "duration": 20,
    "start_time": "2022-03-28T16:12:17.154Z"
   },
   {
    "duration": 16,
    "start_time": "2022-03-28T16:12:17.920Z"
   },
   {
    "duration": 46,
    "start_time": "2022-03-28T16:12:21.506Z"
   },
   {
    "duration": 13,
    "start_time": "2022-03-28T16:12:22.409Z"
   },
   {
    "duration": 17,
    "start_time": "2022-03-28T16:12:23.514Z"
   },
   {
    "duration": 17,
    "start_time": "2022-03-28T16:12:24.261Z"
   },
   {
    "duration": 10,
    "start_time": "2022-03-28T16:12:25.067Z"
   },
   {
    "duration": 15,
    "start_time": "2022-03-28T16:12:25.897Z"
   },
   {
    "duration": 19,
    "start_time": "2022-03-28T16:12:26.879Z"
   },
   {
    "duration": 17,
    "start_time": "2022-03-28T16:12:27.931Z"
   },
   {
    "duration": 19,
    "start_time": "2022-03-28T16:12:29.328Z"
   },
   {
    "duration": 320,
    "start_time": "2022-03-28T16:12:30.746Z"
   },
   {
    "duration": 236,
    "start_time": "2022-03-28T16:12:32.409Z"
   },
   {
    "duration": 29,
    "start_time": "2022-03-28T16:12:34.212Z"
   },
   {
    "duration": 9,
    "start_time": "2022-03-28T16:12:37.457Z"
   },
   {
    "duration": 424,
    "start_time": "2022-03-28T16:12:39.021Z"
   },
   {
    "duration": 293,
    "start_time": "2022-03-28T16:12:43.694Z"
   },
   {
    "duration": 22,
    "start_time": "2022-03-28T16:12:46.066Z"
   },
   {
    "duration": 452,
    "start_time": "2022-03-28T16:12:47.350Z"
   },
   {
    "duration": 24,
    "start_time": "2022-03-28T16:12:50.463Z"
   },
   {
    "duration": 26,
    "start_time": "2022-03-28T16:13:54.508Z"
   },
   {
    "duration": 8,
    "start_time": "2022-03-28T16:15:34.816Z"
   },
   {
    "duration": 314,
    "start_time": "2022-03-28T16:17:27.830Z"
   },
   {
    "duration": 316,
    "start_time": "2022-03-28T16:17:44.604Z"
   },
   {
    "duration": 322,
    "start_time": "2022-03-28T16:18:10.185Z"
   },
   {
    "duration": 17,
    "start_time": "2022-03-28T16:42:12.513Z"
   },
   {
    "duration": 18,
    "start_time": "2022-03-28T16:42:49.257Z"
   },
   {
    "duration": 322,
    "start_time": "2022-03-28T16:46:41.834Z"
   },
   {
    "duration": 1107,
    "start_time": "2022-03-28T16:47:25.004Z"
   },
   {
    "duration": 261,
    "start_time": "2022-03-28T16:47:35.531Z"
   },
   {
    "duration": 972,
    "start_time": "2022-03-28T16:47:39.824Z"
   },
   {
    "duration": 267,
    "start_time": "2022-03-28T16:48:00.226Z"
   },
   {
    "duration": 4,
    "start_time": "2022-03-28T16:48:02.153Z"
   },
   {
    "duration": 250,
    "start_time": "2022-03-28T16:48:07.855Z"
   },
   {
    "duration": 260,
    "start_time": "2022-03-28T16:48:22.320Z"
   },
   {
    "duration": 295,
    "start_time": "2022-03-28T16:48:28.916Z"
   },
   {
    "duration": 819,
    "start_time": "2022-03-28T16:56:40.342Z"
   },
   {
    "duration": 52,
    "start_time": "2022-03-28T16:56:42.523Z"
   },
   {
    "duration": 10,
    "start_time": "2022-03-28T16:56:43.113Z"
   },
   {
    "duration": 12,
    "start_time": "2022-03-28T16:56:43.835Z"
   },
   {
    "duration": 9,
    "start_time": "2022-03-28T16:56:44.512Z"
   },
   {
    "duration": 82,
    "start_time": "2022-03-28T16:56:52.242Z"
   },
   {
    "duration": 8,
    "start_time": "2022-03-28T16:56:54.951Z"
   },
   {
    "duration": 10,
    "start_time": "2022-03-28T16:56:57.634Z"
   },
   {
    "duration": 48,
    "start_time": "2022-03-28T16:56:58.672Z"
   },
   {
    "duration": 7,
    "start_time": "2022-03-28T16:57:01.571Z"
   },
   {
    "duration": 10,
    "start_time": "2022-03-28T16:57:03.825Z"
   },
   {
    "duration": 13,
    "start_time": "2022-03-28T16:57:04.699Z"
   },
   {
    "duration": 10,
    "start_time": "2022-03-28T16:57:05.916Z"
   },
   {
    "duration": 12,
    "start_time": "2022-03-28T16:57:08.463Z"
   },
   {
    "duration": 287,
    "start_time": "2022-03-28T16:57:09.321Z"
   },
   {
    "duration": 111,
    "start_time": "2022-03-28T16:57:10.796Z"
   },
   {
    "duration": 16,
    "start_time": "2022-03-28T16:57:12.139Z"
   },
   {
    "duration": 6,
    "start_time": "2022-03-28T16:57:22.530Z"
   },
   {
    "duration": 220,
    "start_time": "2022-03-28T16:57:23.396Z"
   },
   {
    "duration": 156,
    "start_time": "2022-03-28T16:57:33.103Z"
   },
   {
    "duration": 17,
    "start_time": "2022-03-28T16:57:35.652Z"
   },
   {
    "duration": 291,
    "start_time": "2022-03-28T16:57:36.912Z"
   },
   {
    "duration": 5,
    "start_time": "2022-03-28T16:57:51.501Z"
   },
   {
    "duration": 212,
    "start_time": "2022-03-28T16:57:52.244Z"
   },
   {
    "duration": 8,
    "start_time": "2022-03-28T16:57:56.045Z"
   },
   {
    "duration": 117,
    "start_time": "2022-03-28T16:57:57.066Z"
   },
   {
    "duration": 3,
    "start_time": "2022-03-28T16:58:45.147Z"
   },
   {
    "duration": 107,
    "start_time": "2022-03-28T16:59:14.214Z"
   },
   {
    "duration": 5,
    "start_time": "2022-03-28T17:13:05.135Z"
   },
   {
    "duration": 5,
    "start_time": "2022-03-28T17:13:16.766Z"
   },
   {
    "duration": 129,
    "start_time": "2022-03-28T17:23:40.291Z"
   },
   {
    "duration": 126,
    "start_time": "2022-03-28T17:23:44.218Z"
   },
   {
    "duration": 5,
    "start_time": "2022-03-28T17:25:19.830Z"
   },
   {
    "duration": 4,
    "start_time": "2022-03-28T17:26:29.234Z"
   },
   {
    "duration": 144,
    "start_time": "2022-03-28T17:43:59.207Z"
   },
   {
    "duration": 146,
    "start_time": "2022-03-28T17:45:47.251Z"
   },
   {
    "duration": 248,
    "start_time": "2022-03-28T17:46:39.390Z"
   },
   {
    "duration": 50,
    "start_time": "2022-03-30T14:27:15.527Z"
   },
   {
    "duration": 852,
    "start_time": "2022-03-30T14:27:27.213Z"
   },
   {
    "duration": 28,
    "start_time": "2022-03-30T14:27:28.067Z"
   },
   {
    "duration": 13,
    "start_time": "2022-03-30T14:27:28.097Z"
   },
   {
    "duration": 17,
    "start_time": "2022-03-30T14:27:28.111Z"
   },
   {
    "duration": 12,
    "start_time": "2022-03-30T14:27:28.130Z"
   },
   {
    "duration": 38,
    "start_time": "2022-03-30T14:27:28.144Z"
   },
   {
    "duration": 9,
    "start_time": "2022-03-30T14:27:28.183Z"
   },
   {
    "duration": 12,
    "start_time": "2022-03-30T14:27:28.194Z"
   },
   {
    "duration": 30,
    "start_time": "2022-03-30T14:27:28.208Z"
   },
   {
    "duration": 7,
    "start_time": "2022-03-30T14:27:28.240Z"
   },
   {
    "duration": 12,
    "start_time": "2022-03-30T14:27:28.249Z"
   },
   {
    "duration": 16,
    "start_time": "2022-03-30T14:27:28.263Z"
   },
   {
    "duration": 12,
    "start_time": "2022-03-30T14:27:28.281Z"
   },
   {
    "duration": 39,
    "start_time": "2022-03-30T14:27:28.297Z"
   },
   {
    "duration": 195,
    "start_time": "2022-03-30T14:27:28.338Z"
   },
   {
    "duration": 129,
    "start_time": "2022-03-30T14:27:28.535Z"
   },
   {
    "duration": 18,
    "start_time": "2022-03-30T14:27:28.665Z"
   },
   {
    "duration": 6,
    "start_time": "2022-03-30T14:27:28.684Z"
   },
   {
    "duration": 274,
    "start_time": "2022-03-30T14:27:28.692Z"
   },
   {
    "duration": 181,
    "start_time": "2022-03-30T14:27:28.967Z"
   },
   {
    "duration": 13,
    "start_time": "2022-03-30T14:27:29.149Z"
   },
   {
    "duration": 312,
    "start_time": "2022-03-30T14:27:29.164Z"
   },
   {
    "duration": 6,
    "start_time": "2022-03-30T14:27:29.478Z"
   },
   {
    "duration": 262,
    "start_time": "2022-03-30T14:27:29.485Z"
   },
   {
    "duration": 10,
    "start_time": "2022-03-30T14:27:29.749Z"
   },
   {
    "duration": 137,
    "start_time": "2022-03-30T14:27:29.760Z"
   },
   {
    "duration": 165,
    "start_time": "2022-03-30T14:27:29.899Z"
   },
   {
    "duration": 5,
    "start_time": "2022-03-30T14:27:30.065Z"
   },
   {
    "duration": 168,
    "start_time": "2022-03-30T14:27:30.071Z"
   },
   {
    "duration": 4,
    "start_time": "2022-03-30T14:27:30.241Z"
   },
   {
    "duration": 92,
    "start_time": "2022-03-30T14:27:30.247Z"
   },
   {
    "duration": 9,
    "start_time": "2022-03-30T14:27:36.807Z"
   },
   {
    "duration": 16,
    "start_time": "2022-03-30T14:27:53.664Z"
   },
   {
    "duration": 68,
    "start_time": "2022-03-30T14:28:00.766Z"
   },
   {
    "duration": 67,
    "start_time": "2022-03-30T14:28:48.251Z"
   },
   {
    "duration": 91,
    "start_time": "2022-03-30T14:36:01.874Z"
   },
   {
    "duration": 78,
    "start_time": "2022-03-30T14:36:07.304Z"
   },
   {
    "duration": 10,
    "start_time": "2022-03-30T14:43:28.779Z"
   },
   {
    "duration": 8,
    "start_time": "2022-03-30T14:43:34.724Z"
   },
   {
    "duration": 8,
    "start_time": "2022-03-30T14:53:42.953Z"
   },
   {
    "duration": 8,
    "start_time": "2022-03-30T14:54:35.110Z"
   },
   {
    "duration": 8,
    "start_time": "2022-03-30T14:57:50.407Z"
   },
   {
    "duration": 8,
    "start_time": "2022-03-30T14:58:26.828Z"
   },
   {
    "duration": 374,
    "start_time": "2022-03-30T14:58:50.765Z"
   },
   {
    "duration": 23,
    "start_time": "2022-03-30T14:58:55.073Z"
   },
   {
    "duration": 1264,
    "start_time": "2022-03-30T17:47:05.151Z"
   },
   {
    "duration": 23,
    "start_time": "2022-03-30T17:47:06.417Z"
   },
   {
    "duration": 11,
    "start_time": "2022-03-30T17:47:06.442Z"
   },
   {
    "duration": 10,
    "start_time": "2022-03-30T17:47:06.456Z"
   },
   {
    "duration": 9,
    "start_time": "2022-03-30T17:47:06.468Z"
   },
   {
    "duration": 30,
    "start_time": "2022-03-30T17:47:06.479Z"
   },
   {
    "duration": 8,
    "start_time": "2022-03-30T17:47:06.511Z"
   },
   {
    "duration": 12,
    "start_time": "2022-03-30T17:47:06.520Z"
   },
   {
    "duration": 15,
    "start_time": "2022-03-30T17:47:06.533Z"
   },
   {
    "duration": 6,
    "start_time": "2022-03-30T17:47:06.550Z"
   },
   {
    "duration": 9,
    "start_time": "2022-03-30T17:47:06.557Z"
   },
   {
    "duration": 12,
    "start_time": "2022-03-30T17:47:06.568Z"
   },
   {
    "duration": 13,
    "start_time": "2022-03-30T17:47:06.582Z"
   },
   {
    "duration": 13,
    "start_time": "2022-03-30T17:47:06.597Z"
   },
   {
    "duration": 176,
    "start_time": "2022-03-30T17:47:06.611Z"
   },
   {
    "duration": 132,
    "start_time": "2022-03-30T17:47:06.788Z"
   },
   {
    "duration": 16,
    "start_time": "2022-03-30T17:47:06.921Z"
   },
   {
    "duration": 24,
    "start_time": "2022-03-30T17:47:06.939Z"
   },
   {
    "duration": 237,
    "start_time": "2022-03-30T17:47:06.964Z"
   },
   {
    "duration": 173,
    "start_time": "2022-03-30T17:47:07.202Z"
   },
   {
    "duration": 12,
    "start_time": "2022-03-30T17:47:07.377Z"
   },
   {
    "duration": 305,
    "start_time": "2022-03-30T17:47:07.390Z"
   },
   {
    "duration": 6,
    "start_time": "2022-03-30T17:47:07.696Z"
   },
   {
    "duration": 188,
    "start_time": "2022-03-30T17:47:07.703Z"
   },
   {
    "duration": 9,
    "start_time": "2022-03-30T17:47:07.893Z"
   },
   {
    "duration": 131,
    "start_time": "2022-03-30T17:47:07.903Z"
   },
   {
    "duration": 141,
    "start_time": "2022-03-30T17:47:08.036Z"
   },
   {
    "duration": 3,
    "start_time": "2022-03-30T17:47:08.180Z"
   },
   {
    "duration": 161,
    "start_time": "2022-03-30T17:47:08.185Z"
   },
   {
    "duration": 4,
    "start_time": "2022-03-30T17:47:08.347Z"
   },
   {
    "duration": 80,
    "start_time": "2022-03-30T17:47:08.352Z"
   },
   {
    "duration": 106,
    "start_time": "2022-03-30T17:47:08.433Z"
   },
   {
    "duration": 22,
    "start_time": "2022-03-30T17:47:08.541Z"
   },
   {
    "duration": 8,
    "start_time": "2022-03-30T17:47:08.565Z"
   },
   {
    "duration": 43,
    "start_time": "2022-03-30T17:47:08.574Z"
   },
   {
    "duration": 30,
    "start_time": "2022-03-30T17:47:08.618Z"
   },
   {
    "duration": 9,
    "start_time": "2022-03-30T18:08:18.512Z"
   },
   {
    "duration": 5,
    "start_time": "2022-03-30T18:08:59.576Z"
   },
   {
    "duration": 6,
    "start_time": "2022-03-30T18:10:21.893Z"
   },
   {
    "duration": 11,
    "start_time": "2022-03-30T18:25:12.958Z"
   },
   {
    "duration": 155,
    "start_time": "2022-03-30T18:33:18.045Z"
   },
   {
    "duration": 50,
    "start_time": "2022-03-30T18:53:07.830Z"
   },
   {
    "duration": 1285,
    "start_time": "2022-03-30T18:53:17.584Z"
   },
   {
    "duration": 29,
    "start_time": "2022-03-30T18:53:18.871Z"
   },
   {
    "duration": 14,
    "start_time": "2022-03-30T18:53:18.902Z"
   },
   {
    "duration": 12,
    "start_time": "2022-03-30T18:53:18.918Z"
   },
   {
    "duration": 10,
    "start_time": "2022-03-30T18:53:18.932Z"
   },
   {
    "duration": 45,
    "start_time": "2022-03-30T18:53:18.944Z"
   },
   {
    "duration": 9,
    "start_time": "2022-03-30T18:53:18.991Z"
   },
   {
    "duration": 14,
    "start_time": "2022-03-30T18:53:19.001Z"
   },
   {
    "duration": 29,
    "start_time": "2022-03-30T18:53:19.017Z"
   },
   {
    "duration": 7,
    "start_time": "2022-03-30T18:53:19.049Z"
   },
   {
    "duration": 12,
    "start_time": "2022-03-30T18:53:19.058Z"
   },
   {
    "duration": 17,
    "start_time": "2022-03-30T18:53:19.072Z"
   },
   {
    "duration": 11,
    "start_time": "2022-03-30T18:53:19.090Z"
   },
   {
    "duration": 14,
    "start_time": "2022-03-30T18:53:19.103Z"
   },
   {
    "duration": 207,
    "start_time": "2022-03-30T18:53:19.118Z"
   },
   {
    "duration": 139,
    "start_time": "2022-03-30T18:53:19.326Z"
   },
   {
    "duration": 18,
    "start_time": "2022-03-30T18:53:19.467Z"
   },
   {
    "duration": 22,
    "start_time": "2022-03-30T18:53:19.486Z"
   },
   {
    "duration": 300,
    "start_time": "2022-03-30T18:53:19.510Z"
   },
   {
    "duration": 198,
    "start_time": "2022-03-30T18:53:19.812Z"
   },
   {
    "duration": 13,
    "start_time": "2022-03-30T18:53:20.012Z"
   },
   {
    "duration": 331,
    "start_time": "2022-03-30T18:53:20.027Z"
   },
   {
    "duration": 6,
    "start_time": "2022-03-30T18:53:20.360Z"
   },
   {
    "duration": 209,
    "start_time": "2022-03-30T18:53:20.368Z"
   },
   {
    "duration": 9,
    "start_time": "2022-03-30T18:53:20.579Z"
   },
   {
    "duration": 179,
    "start_time": "2022-03-30T18:53:20.589Z"
   },
   {
    "duration": 159,
    "start_time": "2022-03-30T18:53:20.770Z"
   },
   {
    "duration": 4,
    "start_time": "2022-03-30T18:53:20.932Z"
   },
   {
    "duration": 167,
    "start_time": "2022-03-30T18:53:20.938Z"
   },
   {
    "duration": 4,
    "start_time": "2022-03-30T18:53:21.109Z"
   },
   {
    "duration": 100,
    "start_time": "2022-03-30T18:53:21.114Z"
   },
   {
    "duration": 112,
    "start_time": "2022-03-30T18:53:21.216Z"
   },
   {
    "duration": 7,
    "start_time": "2022-03-30T18:53:21.329Z"
   },
   {
    "duration": 8,
    "start_time": "2022-03-30T18:53:21.337Z"
   },
   {
    "duration": 8,
    "start_time": "2022-03-30T18:53:21.347Z"
   },
   {
    "duration": 21,
    "start_time": "2022-03-30T18:53:21.357Z"
   },
   {
    "duration": 30,
    "start_time": "2022-03-30T18:53:21.379Z"
   },
   {
    "duration": 7,
    "start_time": "2022-03-30T18:53:21.411Z"
   },
   {
    "duration": 5,
    "start_time": "2022-03-30T18:53:21.420Z"
   },
   {
    "duration": 4,
    "start_time": "2022-03-30T18:54:58.887Z"
   },
   {
    "duration": 5,
    "start_time": "2022-03-30T18:56:58.446Z"
   },
   {
    "duration": 109,
    "start_time": "2022-03-30T19:11:50.169Z"
   },
   {
    "duration": 11,
    "start_time": "2022-03-30T19:13:50.594Z"
   },
   {
    "duration": 11,
    "start_time": "2022-03-30T19:14:26.066Z"
   },
   {
    "duration": 6,
    "start_time": "2022-03-30T19:14:47.709Z"
   },
   {
    "duration": 9,
    "start_time": "2022-03-30T19:15:21.886Z"
   },
   {
    "duration": 7,
    "start_time": "2022-03-30T19:16:18.348Z"
   },
   {
    "duration": 9,
    "start_time": "2022-03-30T19:17:11.681Z"
   },
   {
    "duration": 7,
    "start_time": "2022-03-30T19:17:19.666Z"
   },
   {
    "duration": 23,
    "start_time": "2022-03-30T19:17:20.810Z"
   },
   {
    "duration": 1106,
    "start_time": "2022-03-30T20:04:12.616Z"
   },
   {
    "duration": 5,
    "start_time": "2022-03-30T20:04:52.874Z"
   },
   {
    "duration": 5,
    "start_time": "2022-03-30T20:05:08.668Z"
   },
   {
    "duration": 6,
    "start_time": "2022-03-30T20:06:01.417Z"
   },
   {
    "duration": 1602,
    "start_time": "2022-03-31T06:24:18.319Z"
   },
   {
    "duration": 33,
    "start_time": "2022-03-31T06:24:19.924Z"
   },
   {
    "duration": 16,
    "start_time": "2022-03-31T06:24:19.959Z"
   },
   {
    "duration": 15,
    "start_time": "2022-03-31T06:24:19.978Z"
   },
   {
    "duration": 15,
    "start_time": "2022-03-31T06:24:19.995Z"
   },
   {
    "duration": 47,
    "start_time": "2022-03-31T06:24:20.012Z"
   },
   {
    "duration": 12,
    "start_time": "2022-03-31T06:24:20.062Z"
   },
   {
    "duration": 20,
    "start_time": "2022-03-31T06:24:20.076Z"
   },
   {
    "duration": 68,
    "start_time": "2022-03-31T06:24:20.099Z"
   },
   {
    "duration": 10,
    "start_time": "2022-03-31T06:24:20.171Z"
   },
   {
    "duration": 23,
    "start_time": "2022-03-31T06:24:20.183Z"
   },
   {
    "duration": 30,
    "start_time": "2022-03-31T06:24:20.208Z"
   },
   {
    "duration": 19,
    "start_time": "2022-03-31T06:24:20.240Z"
   },
   {
    "duration": 19,
    "start_time": "2022-03-31T06:24:20.274Z"
   },
   {
    "duration": 336,
    "start_time": "2022-03-31T06:24:20.295Z"
   },
   {
    "duration": 242,
    "start_time": "2022-03-31T06:24:20.633Z"
   },
   {
    "duration": 29,
    "start_time": "2022-03-31T06:24:20.877Z"
   },
   {
    "duration": 34,
    "start_time": "2022-03-31T06:24:20.908Z"
   },
   {
    "duration": 446,
    "start_time": "2022-03-31T06:24:20.944Z"
   },
   {
    "duration": 317,
    "start_time": "2022-03-31T06:24:21.392Z"
   },
   {
    "duration": 18,
    "start_time": "2022-03-31T06:24:21.711Z"
   },
   {
    "duration": 489,
    "start_time": "2022-03-31T06:24:21.731Z"
   },
   {
    "duration": 8,
    "start_time": "2022-03-31T06:24:22.222Z"
   },
   {
    "duration": 338,
    "start_time": "2022-03-31T06:24:22.232Z"
   },
   {
    "duration": 13,
    "start_time": "2022-03-31T06:24:22.574Z"
   },
   {
    "duration": 260,
    "start_time": "2022-03-31T06:24:22.589Z"
   },
   {
    "duration": 247,
    "start_time": "2022-03-31T06:24:22.851Z"
   },
   {
    "duration": 6,
    "start_time": "2022-03-31T06:24:23.102Z"
   },
   {
    "duration": 310,
    "start_time": "2022-03-31T06:24:23.110Z"
   },
   {
    "duration": 6,
    "start_time": "2022-03-31T06:24:23.422Z"
   },
   {
    "duration": 143,
    "start_time": "2022-03-31T06:24:23.430Z"
   },
   {
    "duration": 183,
    "start_time": "2022-03-31T06:24:23.576Z"
   },
   {
    "duration": 21,
    "start_time": "2022-03-31T06:24:23.761Z"
   },
   {
    "duration": 14,
    "start_time": "2022-03-31T06:24:23.784Z"
   },
   {
    "duration": 11,
    "start_time": "2022-03-31T06:24:23.800Z"
   },
   {
    "duration": 69,
    "start_time": "2022-03-31T06:24:23.813Z"
   },
   {
    "duration": 7,
    "start_time": "2022-03-31T06:24:23.884Z"
   },
   {
    "duration": 11,
    "start_time": "2022-03-31T06:24:23.893Z"
   },
   {
    "duration": 7,
    "start_time": "2022-03-31T06:24:23.906Z"
   },
   {
    "duration": 8,
    "start_time": "2022-03-31T06:24:23.915Z"
   },
   {
    "duration": 12,
    "start_time": "2022-03-31T06:24:23.925Z"
   },
   {
    "duration": 10,
    "start_time": "2022-03-31T06:24:23.974Z"
   },
   {
    "duration": 9,
    "start_time": "2022-03-31T06:24:23.986Z"
   },
   {
    "duration": 31,
    "start_time": "2022-03-31T06:24:23.997Z"
   },
   {
    "duration": 7,
    "start_time": "2022-03-31T06:24:24.030Z"
   },
   {
    "duration": 8,
    "start_time": "2022-03-31T06:24:24.073Z"
   },
   {
    "duration": 9,
    "start_time": "2022-03-31T06:24:24.084Z"
   },
   {
    "duration": 1655,
    "start_time": "2022-03-31T12:10:52.314Z"
   },
   {
    "duration": 29,
    "start_time": "2022-03-31T12:10:53.972Z"
   },
   {
    "duration": 16,
    "start_time": "2022-03-31T12:10:54.003Z"
   },
   {
    "duration": 16,
    "start_time": "2022-03-31T12:10:54.022Z"
   },
   {
    "duration": 29,
    "start_time": "2022-03-31T12:10:54.040Z"
   },
   {
    "duration": 36,
    "start_time": "2022-03-31T12:10:54.071Z"
   },
   {
    "duration": 11,
    "start_time": "2022-03-31T12:10:54.109Z"
   },
   {
    "duration": 16,
    "start_time": "2022-03-31T12:10:54.123Z"
   },
   {
    "duration": 28,
    "start_time": "2022-03-31T12:10:54.141Z"
   },
   {
    "duration": 10,
    "start_time": "2022-03-31T12:10:54.172Z"
   },
   {
    "duration": 15,
    "start_time": "2022-03-31T12:10:54.184Z"
   },
   {
    "duration": 20,
    "start_time": "2022-03-31T12:10:54.202Z"
   },
   {
    "duration": 52,
    "start_time": "2022-03-31T12:10:54.224Z"
   },
   {
    "duration": 18,
    "start_time": "2022-03-31T12:10:54.278Z"
   },
   {
    "duration": 329,
    "start_time": "2022-03-31T12:10:54.299Z"
   },
   {
    "duration": 242,
    "start_time": "2022-03-31T12:10:54.630Z"
   },
   {
    "duration": 26,
    "start_time": "2022-03-31T12:10:54.874Z"
   },
   {
    "duration": 11,
    "start_time": "2022-03-31T12:10:54.902Z"
   },
   {
    "duration": 436,
    "start_time": "2022-03-31T12:10:54.914Z"
   },
   {
    "duration": 306,
    "start_time": "2022-03-31T12:10:55.352Z"
   },
   {
    "duration": 22,
    "start_time": "2022-03-31T12:10:55.661Z"
   },
   {
    "duration": 424,
    "start_time": "2022-03-31T12:10:55.686Z"
   },
   {
    "duration": 8,
    "start_time": "2022-03-31T12:10:56.113Z"
   },
   {
    "duration": 339,
    "start_time": "2022-03-31T12:10:56.124Z"
   },
   {
    "duration": 13,
    "start_time": "2022-03-31T12:10:56.468Z"
   },
   {
    "duration": 266,
    "start_time": "2022-03-31T12:10:56.484Z"
   },
   {
    "duration": 249,
    "start_time": "2022-03-31T12:10:56.752Z"
   },
   {
    "duration": 6,
    "start_time": "2022-03-31T12:10:57.006Z"
   },
   {
    "duration": 278,
    "start_time": "2022-03-31T12:10:57.014Z"
   },
   {
    "duration": 5,
    "start_time": "2022-03-31T12:10:57.295Z"
   },
   {
    "duration": 142,
    "start_time": "2022-03-31T12:10:57.302Z"
   },
   {
    "duration": 163,
    "start_time": "2022-03-31T12:10:57.446Z"
   },
   {
    "duration": 10,
    "start_time": "2022-03-31T12:10:57.611Z"
   },
   {
    "duration": 11,
    "start_time": "2022-03-31T12:10:57.623Z"
   },
   {
    "duration": 38,
    "start_time": "2022-03-31T12:10:57.636Z"
   },
   {
    "duration": 29,
    "start_time": "2022-03-31T12:10:57.677Z"
   },
   {
    "duration": 8,
    "start_time": "2022-03-31T12:10:57.708Z"
   },
   {
    "duration": 9,
    "start_time": "2022-03-31T12:10:57.718Z"
   },
   {
    "duration": 39,
    "start_time": "2022-03-31T12:10:57.729Z"
   },
   {
    "duration": 7,
    "start_time": "2022-03-31T12:10:57.771Z"
   },
   {
    "duration": 9,
    "start_time": "2022-03-31T12:10:57.780Z"
   },
   {
    "duration": 9,
    "start_time": "2022-03-31T12:10:57.791Z"
   },
   {
    "duration": 8,
    "start_time": "2022-03-31T12:10:57.802Z"
   },
   {
    "duration": 66,
    "start_time": "2022-03-31T12:10:57.812Z"
   },
   {
    "duration": 7,
    "start_time": "2022-03-31T12:10:57.880Z"
   },
   {
    "duration": 8,
    "start_time": "2022-03-31T12:10:57.889Z"
   },
   {
    "duration": 8,
    "start_time": "2022-03-31T12:10:57.899Z"
   },
   {
    "duration": 1359,
    "start_time": "2022-04-01T17:38:30.636Z"
   },
   {
    "duration": 17,
    "start_time": "2022-04-01T17:38:31.998Z"
   },
   {
    "duration": 17,
    "start_time": "2022-04-01T17:38:32.017Z"
   },
   {
    "duration": 31,
    "start_time": "2022-04-01T17:38:32.037Z"
   },
   {
    "duration": 15,
    "start_time": "2022-04-01T17:38:32.071Z"
   },
   {
    "duration": 24,
    "start_time": "2022-04-01T17:38:32.089Z"
   },
   {
    "duration": 13,
    "start_time": "2022-04-01T17:38:32.115Z"
   },
   {
    "duration": 41,
    "start_time": "2022-04-01T17:38:32.130Z"
   },
   {
    "duration": 15,
    "start_time": "2022-04-01T17:38:32.173Z"
   },
   {
    "duration": 10,
    "start_time": "2022-04-01T17:38:32.192Z"
   },
   {
    "duration": 14,
    "start_time": "2022-04-01T17:38:32.204Z"
   },
   {
    "duration": 47,
    "start_time": "2022-04-01T17:38:32.220Z"
   },
   {
    "duration": 16,
    "start_time": "2022-04-01T17:38:32.269Z"
   },
   {
    "duration": 18,
    "start_time": "2022-04-01T17:38:32.287Z"
   },
   {
    "duration": 336,
    "start_time": "2022-04-01T17:38:32.307Z"
   },
   {
    "duration": 243,
    "start_time": "2022-04-01T17:38:32.645Z"
   },
   {
    "duration": 27,
    "start_time": "2022-04-01T17:38:32.891Z"
   },
   {
    "duration": 9,
    "start_time": "2022-04-01T17:38:32.921Z"
   },
   {
    "duration": 429,
    "start_time": "2022-04-01T17:38:32.967Z"
   },
   {
    "duration": 305,
    "start_time": "2022-04-01T17:38:33.398Z"
   },
   {
    "duration": 21,
    "start_time": "2022-04-01T17:38:33.706Z"
   },
   {
    "duration": 452,
    "start_time": "2022-04-01T17:38:33.729Z"
   },
   {
    "duration": 9,
    "start_time": "2022-04-01T17:38:34.183Z"
   },
   {
    "duration": 337,
    "start_time": "2022-04-01T17:38:34.194Z"
   },
   {
    "duration": 13,
    "start_time": "2022-04-01T17:38:34.533Z"
   },
   {
    "duration": 255,
    "start_time": "2022-04-01T17:38:34.548Z"
   },
   {
    "duration": 242,
    "start_time": "2022-04-01T17:38:34.805Z"
   },
   {
    "duration": 17,
    "start_time": "2022-04-01T17:38:35.053Z"
   },
   {
    "duration": 274,
    "start_time": "2022-04-01T17:38:35.073Z"
   },
   {
    "duration": 17,
    "start_time": "2022-04-01T17:38:35.350Z"
   },
   {
    "duration": 141,
    "start_time": "2022-04-01T17:38:35.369Z"
   },
   {
    "duration": 198,
    "start_time": "2022-04-01T17:38:35.512Z"
   },
   {
    "duration": 11,
    "start_time": "2022-04-01T17:38:35.713Z"
   },
   {
    "duration": 42,
    "start_time": "2022-04-01T17:38:35.727Z"
   },
   {
    "duration": 11,
    "start_time": "2022-04-01T17:38:35.771Z"
   },
   {
    "duration": 32,
    "start_time": "2022-04-01T17:38:35.784Z"
   },
   {
    "duration": 7,
    "start_time": "2022-04-01T17:38:35.818Z"
   },
   {
    "duration": 45,
    "start_time": "2022-04-01T17:38:35.827Z"
   },
   {
    "duration": 7,
    "start_time": "2022-04-01T17:38:35.875Z"
   },
   {
    "duration": 6,
    "start_time": "2022-04-01T17:38:35.885Z"
   },
   {
    "duration": 14,
    "start_time": "2022-04-01T17:38:35.893Z"
   },
   {
    "duration": 9,
    "start_time": "2022-04-01T17:38:35.910Z"
   },
   {
    "duration": 9,
    "start_time": "2022-04-01T17:38:35.921Z"
   },
   {
    "duration": 29,
    "start_time": "2022-04-01T17:38:35.968Z"
   },
   {
    "duration": 7,
    "start_time": "2022-04-01T17:38:35.999Z"
   },
   {
    "duration": 8,
    "start_time": "2022-04-01T17:38:36.008Z"
   },
   {
    "duration": 8,
    "start_time": "2022-04-01T17:38:36.018Z"
   },
   {
    "duration": 318,
    "start_time": "2022-04-01T20:54:02.187Z"
   },
   {
    "duration": 318,
    "start_time": "2022-04-01T21:21:36.803Z"
   },
   {
    "duration": 314,
    "start_time": "2022-04-01T21:23:52.761Z"
   },
   {
    "duration": 318,
    "start_time": "2022-04-01T21:24:30.425Z"
   },
   {
    "duration": 387,
    "start_time": "2022-04-01T21:29:39.374Z"
   },
   {
    "duration": 276,
    "start_time": "2022-04-02T14:07:37.611Z"
   },
   {
    "duration": 21,
    "start_time": "2022-04-02T14:08:17.240Z"
   },
   {
    "duration": 19,
    "start_time": "2022-04-02T14:53:43.826Z"
   },
   {
    "duration": 603,
    "start_time": "2022-04-02T15:22:47.394Z"
   },
   {
    "duration": 475,
    "start_time": "2022-04-02T15:23:32.446Z"
   },
   {
    "duration": 374,
    "start_time": "2022-04-02T15:35:40.927Z"
   },
   {
    "duration": 134,
    "start_time": "2022-04-02T16:41:38.220Z"
   },
   {
    "duration": 158,
    "start_time": "2022-04-02T16:41:43.588Z"
   },
   {
    "duration": 6,
    "start_time": "2022-04-02T16:58:12.714Z"
   },
   {
    "duration": 6,
    "start_time": "2022-04-02T16:58:21.777Z"
   },
   {
    "duration": 10,
    "start_time": "2022-04-02T17:25:05.185Z"
   },
   {
    "duration": 1866,
    "start_time": "2022-04-03T21:45:10.599Z"
   },
   {
    "duration": 3431,
    "start_time": "2022-04-03T21:45:19.196Z"
   },
   {
    "duration": 14,
    "start_time": "2022-04-03T21:45:28.834Z"
   },
   {
    "duration": 11,
    "start_time": "2022-04-03T21:45:45.015Z"
   },
   {
    "duration": 15,
    "start_time": "2022-04-03T21:45:52.130Z"
   },
   {
    "duration": 10,
    "start_time": "2022-04-03T21:48:19.080Z"
   },
   {
    "duration": 5,
    "start_time": "2022-04-03T21:48:45.114Z"
   },
   {
    "duration": 1422,
    "start_time": "2022-04-03T22:21:03.821Z"
   },
   {
    "duration": 13,
    "start_time": "2022-04-03T22:21:05.246Z"
   },
   {
    "duration": 17,
    "start_time": "2022-04-03T22:21:05.268Z"
   },
   {
    "duration": 18,
    "start_time": "2022-04-03T22:21:05.287Z"
   },
   {
    "duration": 15,
    "start_time": "2022-04-03T22:21:05.307Z"
   },
   {
    "duration": 45,
    "start_time": "2022-04-03T22:21:05.324Z"
   },
   {
    "duration": 24,
    "start_time": "2022-04-03T22:21:05.371Z"
   },
   {
    "duration": 15,
    "start_time": "2022-04-03T22:21:05.397Z"
   },
   {
    "duration": 18,
    "start_time": "2022-04-03T22:21:05.415Z"
   },
   {
    "duration": 34,
    "start_time": "2022-04-03T22:21:05.438Z"
   },
   {
    "duration": 11,
    "start_time": "2022-04-03T22:21:05.474Z"
   },
   {
    "duration": 14,
    "start_time": "2022-04-03T22:21:05.488Z"
   },
   {
    "duration": 21,
    "start_time": "2022-04-03T22:21:05.504Z"
   },
   {
    "duration": 49,
    "start_time": "2022-04-03T22:21:05.528Z"
   },
   {
    "duration": 16,
    "start_time": "2022-04-03T22:21:05.579Z"
   },
   {
    "duration": 334,
    "start_time": "2022-04-03T22:21:05.598Z"
   },
   {
    "duration": 239,
    "start_time": "2022-04-03T22:21:05.934Z"
   },
   {
    "duration": 21,
    "start_time": "2022-04-03T22:21:06.175Z"
   },
   {
    "duration": 9,
    "start_time": "2022-04-03T22:21:06.198Z"
   },
   {
    "duration": 480,
    "start_time": "2022-04-03T22:21:06.209Z"
   },
   {
    "duration": 362,
    "start_time": "2022-04-03T22:21:06.691Z"
   },
   {
    "duration": 26,
    "start_time": "2022-04-03T22:21:07.056Z"
   },
   {
    "duration": 445,
    "start_time": "2022-04-03T22:21:07.085Z"
   },
   {
    "duration": 9,
    "start_time": "2022-04-03T22:21:07.532Z"
   },
   {
    "duration": 376,
    "start_time": "2022-04-03T22:21:07.543Z"
   },
   {
    "duration": 296,
    "start_time": "2022-04-03T22:21:07.921Z"
   },
   {
    "duration": 256,
    "start_time": "2022-04-03T22:21:08.220Z"
   },
   {
    "duration": 6,
    "start_time": "2022-04-03T22:21:08.482Z"
   },
   {
    "duration": 306,
    "start_time": "2022-04-03T22:21:08.490Z"
   },
   {
    "duration": 6,
    "start_time": "2022-04-03T22:21:08.798Z"
   },
   {
    "duration": 149,
    "start_time": "2022-04-03T22:21:08.807Z"
   },
   {
    "duration": 169,
    "start_time": "2022-04-03T22:21:08.958Z"
   },
   {
    "duration": 12,
    "start_time": "2022-04-03T22:21:09.129Z"
   },
   {
    "duration": 28,
    "start_time": "2022-04-03T22:21:09.144Z"
   },
   {
    "duration": 30,
    "start_time": "2022-04-03T22:21:09.175Z"
   },
   {
    "duration": 8,
    "start_time": "2022-04-03T22:21:09.207Z"
   },
   {
    "duration": 11,
    "start_time": "2022-04-03T22:21:09.217Z"
   },
   {
    "duration": 45,
    "start_time": "2022-04-03T22:21:09.230Z"
   },
   {
    "duration": 11,
    "start_time": "2022-04-03T22:21:09.277Z"
   },
   {
    "duration": 11,
    "start_time": "2022-04-03T22:21:09.290Z"
   },
   {
    "duration": 8,
    "start_time": "2022-04-03T22:21:09.304Z"
   },
   {
    "duration": 9,
    "start_time": "2022-04-03T22:21:09.314Z"
   },
   {
    "duration": 73,
    "start_time": "2022-04-03T22:21:09.326Z"
   },
   {
    "duration": 10,
    "start_time": "2022-04-03T22:21:09.402Z"
   },
   {
    "duration": 9,
    "start_time": "2022-04-03T22:21:09.415Z"
   },
   {
    "duration": 41,
    "start_time": "2022-04-03T22:21:09.427Z"
   },
   {
    "duration": 1262,
    "start_time": "2022-04-04T17:04:28.688Z"
   },
   {
    "duration": 16,
    "start_time": "2022-04-04T17:04:29.951Z"
   },
   {
    "duration": 11,
    "start_time": "2022-04-04T17:04:29.968Z"
   },
   {
    "duration": 12,
    "start_time": "2022-04-04T17:04:29.982Z"
   },
   {
    "duration": 21,
    "start_time": "2022-04-04T17:04:29.996Z"
   },
   {
    "duration": 8,
    "start_time": "2022-04-04T17:04:30.018Z"
   },
   {
    "duration": 32,
    "start_time": "2022-04-04T17:04:30.028Z"
   },
   {
    "duration": 8,
    "start_time": "2022-04-04T17:04:30.062Z"
   },
   {
    "duration": 13,
    "start_time": "2022-04-04T17:04:30.072Z"
   },
   {
    "duration": 13,
    "start_time": "2022-04-04T17:04:30.088Z"
   },
   {
    "duration": 7,
    "start_time": "2022-04-04T17:04:30.103Z"
   },
   {
    "duration": 11,
    "start_time": "2022-04-04T17:04:30.111Z"
   },
   {
    "duration": 16,
    "start_time": "2022-04-04T17:04:30.123Z"
   },
   {
    "duration": 15,
    "start_time": "2022-04-04T17:04:30.141Z"
   },
   {
    "duration": 19,
    "start_time": "2022-04-04T17:04:30.157Z"
   },
   {
    "duration": 211,
    "start_time": "2022-04-04T17:04:30.178Z"
   },
   {
    "duration": 136,
    "start_time": "2022-04-04T17:04:30.391Z"
   },
   {
    "duration": 13,
    "start_time": "2022-04-04T17:04:30.528Z"
   },
   {
    "duration": 9,
    "start_time": "2022-04-04T17:04:30.542Z"
   },
   {
    "duration": 285,
    "start_time": "2022-04-04T17:04:30.552Z"
   },
   {
    "duration": 206,
    "start_time": "2022-04-04T17:04:30.839Z"
   },
   {
    "duration": 13,
    "start_time": "2022-04-04T17:04:31.047Z"
   },
   {
    "duration": 412,
    "start_time": "2022-04-04T17:04:31.062Z"
   },
   {
    "duration": 6,
    "start_time": "2022-04-04T17:04:31.475Z"
   },
   {
    "duration": 233,
    "start_time": "2022-04-04T17:04:31.483Z"
   },
   {
    "duration": 132,
    "start_time": "2022-04-04T17:04:31.718Z"
   },
   {
    "duration": 150,
    "start_time": "2022-04-04T17:04:31.851Z"
   },
   {
    "duration": 4,
    "start_time": "2022-04-04T17:04:32.008Z"
   },
   {
    "duration": 181,
    "start_time": "2022-04-04T17:04:32.014Z"
   },
   {
    "duration": 11,
    "start_time": "2022-04-04T17:04:32.197Z"
   },
   {
    "duration": 67,
    "start_time": "2022-04-04T17:04:32.210Z"
   },
   {
    "duration": 99,
    "start_time": "2022-04-04T17:04:32.280Z"
   },
   {
    "duration": 8,
    "start_time": "2022-04-04T17:04:32.381Z"
   },
   {
    "duration": 8,
    "start_time": "2022-04-04T17:04:32.409Z"
   },
   {
    "duration": 23,
    "start_time": "2022-04-04T17:04:32.419Z"
   },
   {
    "duration": 6,
    "start_time": "2022-04-04T17:04:32.444Z"
   },
   {
    "duration": 10,
    "start_time": "2022-04-04T17:04:32.452Z"
   },
   {
    "duration": 6,
    "start_time": "2022-04-04T17:04:32.464Z"
   },
   {
    "duration": 39,
    "start_time": "2022-04-04T17:04:32.472Z"
   },
   {
    "duration": 7,
    "start_time": "2022-04-04T17:04:32.513Z"
   },
   {
    "duration": 6,
    "start_time": "2022-04-04T17:04:32.522Z"
   },
   {
    "duration": 13,
    "start_time": "2022-04-04T17:04:32.530Z"
   },
   {
    "duration": 25,
    "start_time": "2022-04-04T17:04:32.545Z"
   },
   {
    "duration": 4,
    "start_time": "2022-04-04T17:04:32.572Z"
   },
   {
    "duration": 6,
    "start_time": "2022-04-04T17:04:32.578Z"
   },
   {
    "duration": 25,
    "start_time": "2022-04-04T17:04:32.585Z"
   },
   {
    "duration": 45,
    "start_time": "2022-04-04T18:26:59.901Z"
   },
   {
    "duration": 7,
    "start_time": "2022-04-04T18:27:15.334Z"
   },
   {
    "duration": 1690,
    "start_time": "2022-04-04T18:27:21.505Z"
   },
   {
    "duration": 13,
    "start_time": "2022-04-04T18:27:25.720Z"
   },
   {
    "duration": 12,
    "start_time": "2022-04-04T18:27:27.726Z"
   },
   {
    "duration": 14,
    "start_time": "2022-04-04T18:27:29.808Z"
   },
   {
    "duration": 12,
    "start_time": "2022-04-04T18:27:30.900Z"
   },
   {
    "duration": 5,
    "start_time": "2022-04-04T18:27:32.751Z"
   },
   {
    "duration": 20,
    "start_time": "2022-04-04T18:27:35.871Z"
   },
   {
    "duration": 9,
    "start_time": "2022-04-04T18:27:36.657Z"
   },
   {
    "duration": 11,
    "start_time": "2022-04-04T18:27:38.818Z"
   },
   {
    "duration": 10,
    "start_time": "2022-04-04T18:27:40.280Z"
   },
   {
    "duration": 8,
    "start_time": "2022-04-04T18:27:41.385Z"
   },
   {
    "duration": 14,
    "start_time": "2022-04-04T18:27:42.508Z"
   },
   {
    "duration": 18,
    "start_time": "2022-04-04T18:27:44.790Z"
   },
   {
    "duration": 15,
    "start_time": "2022-04-04T18:27:46.030Z"
   },
   {
    "duration": 10,
    "start_time": "2022-04-04T18:27:47.593Z"
   },
   {
    "duration": 178,
    "start_time": "2022-04-04T18:27:49.632Z"
   },
   {
    "duration": 116,
    "start_time": "2022-04-04T18:27:51.093Z"
   },
   {
    "duration": 13,
    "start_time": "2022-04-04T18:27:52.351Z"
   },
   {
    "duration": 7,
    "start_time": "2022-04-04T18:27:54.406Z"
   },
   {
    "duration": 260,
    "start_time": "2022-04-04T18:27:55.217Z"
   },
   {
    "duration": 184,
    "start_time": "2022-04-04T18:28:00.163Z"
   },
   {
    "duration": 13,
    "start_time": "2022-04-04T18:28:04.296Z"
   },
   {
    "duration": 321,
    "start_time": "2022-04-04T18:28:05.894Z"
   },
   {
    "duration": 6,
    "start_time": "2022-04-04T18:28:10.528Z"
   },
   {
    "duration": 196,
    "start_time": "2022-04-04T18:28:11.287Z"
   },
   {
    "duration": 7,
    "start_time": "2022-04-04T18:28:15.575Z"
   },
   {
    "duration": 13,
    "start_time": "2022-04-04T18:28:27.962Z"
   },
   {
    "duration": 58,
    "start_time": "2022-04-04T18:31:32.373Z"
   },
   {
    "duration": 403,
    "start_time": "2022-04-04T18:31:40.957Z"
   },
   {
    "duration": 145,
    "start_time": "2022-04-05T16:57:55.803Z"
   },
   {
    "duration": 300,
    "start_time": "2022-04-05T17:04:05.366Z"
   },
   {
    "duration": 353,
    "start_time": "2022-04-05T17:04:21.250Z"
   },
   {
    "duration": 274,
    "start_time": "2022-04-05T17:04:32.296Z"
   },
   {
    "duration": 186,
    "start_time": "2022-04-05T17:04:40.172Z"
   },
   {
    "duration": 179,
    "start_time": "2022-04-05T17:07:08.082Z"
   },
   {
    "duration": 220,
    "start_time": "2022-04-05T17:08:19.588Z"
   },
   {
    "duration": 186,
    "start_time": "2022-04-05T17:08:22.229Z"
   },
   {
    "duration": 184,
    "start_time": "2022-04-05T17:08:33.087Z"
   },
   {
    "duration": 192,
    "start_time": "2022-04-05T17:08:57.561Z"
   },
   {
    "duration": 311,
    "start_time": "2022-04-05T17:09:12.963Z"
   },
   {
    "duration": 223,
    "start_time": "2022-04-05T17:09:23.051Z"
   },
   {
    "duration": 338,
    "start_time": "2022-04-05T17:09:32.140Z"
   },
   {
    "duration": 10,
    "start_time": "2022-04-05T17:10:40.371Z"
   },
   {
    "duration": 1161,
    "start_time": "2022-04-05T17:16:24.502Z"
   },
   {
    "duration": 16,
    "start_time": "2022-04-05T17:16:25.665Z"
   },
   {
    "duration": 11,
    "start_time": "2022-04-05T17:16:25.683Z"
   },
   {
    "duration": 14,
    "start_time": "2022-04-05T17:16:25.696Z"
   },
   {
    "duration": 13,
    "start_time": "2022-04-05T17:16:25.713Z"
   },
   {
    "duration": 7,
    "start_time": "2022-04-05T17:16:25.728Z"
   },
   {
    "duration": 27,
    "start_time": "2022-04-05T17:16:25.736Z"
   },
   {
    "duration": 8,
    "start_time": "2022-04-05T17:16:25.765Z"
   },
   {
    "duration": 13,
    "start_time": "2022-04-05T17:16:25.775Z"
   },
   {
    "duration": 19,
    "start_time": "2022-04-05T17:16:25.790Z"
   },
   {
    "duration": 9,
    "start_time": "2022-04-05T17:16:25.812Z"
   },
   {
    "duration": 11,
    "start_time": "2022-04-05T17:16:25.823Z"
   },
   {
    "duration": 37,
    "start_time": "2022-04-05T17:16:25.836Z"
   },
   {
    "duration": 11,
    "start_time": "2022-04-05T17:16:25.876Z"
   },
   {
    "duration": 12,
    "start_time": "2022-04-05T17:16:25.888Z"
   },
   {
    "duration": 201,
    "start_time": "2022-04-05T17:16:25.902Z"
   },
   {
    "duration": 129,
    "start_time": "2022-04-05T17:16:26.105Z"
   },
   {
    "duration": 14,
    "start_time": "2022-04-05T17:16:26.236Z"
   },
   {
    "duration": 7,
    "start_time": "2022-04-05T17:16:26.263Z"
   },
   {
    "duration": 278,
    "start_time": "2022-04-05T17:16:26.271Z"
   },
   {
    "duration": 220,
    "start_time": "2022-04-05T17:16:26.551Z"
   },
   {
    "duration": 13,
    "start_time": "2022-04-05T17:16:26.773Z"
   },
   {
    "duration": 321,
    "start_time": "2022-04-05T17:16:26.788Z"
   },
   {
    "duration": 7,
    "start_time": "2022-04-05T17:16:27.111Z"
   },
   {
    "duration": 350,
    "start_time": "2022-04-05T17:16:27.120Z"
   },
   {
    "duration": 14,
    "start_time": "2022-04-05T17:16:27.472Z"
   },
   {
    "duration": 309,
    "start_time": "2022-04-05T17:16:27.488Z"
   },
   {
    "duration": 138,
    "start_time": "2022-04-05T17:16:27.799Z"
   },
   {
    "duration": 148,
    "start_time": "2022-04-05T17:16:27.940Z"
   },
   {
    "duration": 4,
    "start_time": "2022-04-05T17:16:28.090Z"
   },
   {
    "duration": 159,
    "start_time": "2022-04-05T17:16:28.095Z"
   },
   {
    "duration": 9,
    "start_time": "2022-04-05T17:16:28.256Z"
   },
   {
    "duration": 72,
    "start_time": "2022-04-05T17:16:28.267Z"
   },
   {
    "duration": 91,
    "start_time": "2022-04-05T17:16:28.341Z"
   },
   {
    "duration": 9,
    "start_time": "2022-04-05T17:16:28.434Z"
   },
   {
    "duration": 24,
    "start_time": "2022-04-05T17:16:28.444Z"
   },
   {
    "duration": 22,
    "start_time": "2022-04-05T17:16:28.470Z"
   },
   {
    "duration": 5,
    "start_time": "2022-04-05T17:16:28.493Z"
   },
   {
    "duration": 9,
    "start_time": "2022-04-05T17:16:28.500Z"
   },
   {
    "duration": 8,
    "start_time": "2022-04-05T17:16:28.510Z"
   },
   {
    "duration": 7,
    "start_time": "2022-04-05T17:16:28.522Z"
   },
   {
    "duration": 32,
    "start_time": "2022-04-05T17:16:28.531Z"
   },
   {
    "duration": 7,
    "start_time": "2022-04-05T17:16:28.565Z"
   },
   {
    "duration": 11,
    "start_time": "2022-04-05T17:16:28.573Z"
   },
   {
    "duration": 28,
    "start_time": "2022-04-05T17:16:28.586Z"
   },
   {
    "duration": 6,
    "start_time": "2022-04-05T17:16:28.616Z"
   },
   {
    "duration": 7,
    "start_time": "2022-04-05T17:16:28.623Z"
   },
   {
    "duration": 6,
    "start_time": "2022-04-05T17:16:28.632Z"
   },
   {
    "duration": 125,
    "start_time": "2022-04-05T17:19:49.078Z"
   }
  ],
  "kernelspec": {
   "display_name": "Python 3 (ipykernel)",
   "language": "python",
   "name": "python3"
  },
  "language_info": {
   "codemirror_mode": {
    "name": "ipython",
    "version": 3
   },
   "file_extension": ".py",
   "mimetype": "text/x-python",
   "name": "python",
   "nbconvert_exporter": "python",
   "pygments_lexer": "ipython3",
   "version": "3.7.10"
  },
  "toc": {
   "base_numbering": 1,
   "nav_menu": {
    "height": "156px",
    "width": "374px"
   },
   "number_sections": true,
   "sideBar": true,
   "skip_h1_title": true,
   "title_cell": "Table of Contents",
   "title_sidebar": "Contents",
   "toc_cell": false,
   "toc_position": {},
   "toc_section_display": true,
   "toc_window_display": false
  }
 },
 "nbformat": 4,
 "nbformat_minor": 2
}
